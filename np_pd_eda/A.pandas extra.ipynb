{
 "cells": [
  {
   "cell_type": "markdown",
   "metadata": {
    "id": "Vvz_fqFm0X3e"
   },
   "source": [
    "# Setup"
   ]
  },
  {
   "cell_type": "markdown",
   "metadata": {
    "id": "KuUCFZ6k0X3e"
   },
   "source": [
    "First, let's import `pandas`. People usually import it as `pd`:"
   ]
  },
  {
   "cell_type": "code",
   "execution_count": null,
   "metadata": {
    "id": "8x9LxmAA0X3f"
   },
   "outputs": [],
   "source": [
    "import pandas as pd"
   ]
  },
  {
   "cell_type": "markdown",
   "metadata": {
    "id": "_bc21SJ_0X3f"
   },
   "source": [
    "# `Series` objects\n",
    "The `pandas` library contains these useful data structures:\n",
    "* `Series` objects, that we will discuss now. A `Series` object is 1D array, similar to a column in a spreadsheet (with a column name and row labels).\n",
    "* `DataFrame` objects. This is a 2D table, similar to a spreadsheet (with column names and row labels).\n",
    "* `Panel` objects. You can see a `Panel` as a dictionary of `DataFrame`s. These are less used, so we will not discuss them here."
   ]
  },
  {
   "cell_type": "markdown",
   "metadata": {
    "id": "kmL5tmTH0X3g"
   },
   "source": [
    "## Creating a `Series`\n",
    "Let's start by creating our first `Series` object!"
   ]
  },
  {
   "cell_type": "code",
   "execution_count": null,
   "metadata": {
    "id": "pTy0ei2K0X3g",
    "outputId": "56eb3565-99db-4884-92b6-c4027cc44225"
   },
   "outputs": [],
   "source": [
    "s = pd.Series([2,-1,3,5])\n",
    "s"
   ]
  },
  {
   "cell_type": "markdown",
   "metadata": {
    "id": "kF7KQJzm0X3h"
   },
   "source": [
    "## Similar to a 1D `ndarray`\n",
    "`Series` objects behave much like one-dimensional NumPy `ndarray`s, and you can often pass them as parameters to NumPy functions:"
   ]
  },
  {
   "cell_type": "code",
   "execution_count": null,
   "metadata": {
    "id": "0TEASAWq0X3h",
    "outputId": "5fa31154-bfc6-4af8-abc5-764b349ffd82"
   },
   "outputs": [],
   "source": [
    "import numpy as np\n",
    "np.exp(s)"
   ]
  },
  {
   "cell_type": "markdown",
   "metadata": {
    "id": "IZ_4W6en0X3h"
   },
   "source": [
    "Arithmetic operations on `Series` are also possible, and they apply *elementwise*, just like for `ndarray`s:"
   ]
  },
  {
   "cell_type": "code",
   "execution_count": null,
   "metadata": {
    "id": "NqbF-kjC0X3i",
    "outputId": "c1dd184e-6adc-4454-d649-a0bfea299008"
   },
   "outputs": [],
   "source": [
    "s + [1000,2000,3000,4000]"
   ]
  },
  {
   "cell_type": "markdown",
   "metadata": {
    "id": "U3oxo9vE0X3i"
   },
   "source": [
    "Similar to NumPy, if you add a single number to a `Series`, that number is added to all items in the `Series`. This is called * broadcasting*:"
   ]
  },
  {
   "cell_type": "code",
   "execution_count": null,
   "metadata": {
    "id": "6eQFAmhP0X3i",
    "outputId": "825c80c7-b726-4f36-e411-c32bc1ad8045"
   },
   "outputs": [],
   "source": [
    "s + 1000"
   ]
  },
  {
   "cell_type": "markdown",
   "metadata": {
    "id": "EFOl4Qe10X3i"
   },
   "source": [
    "The same is true for all binary operations such as `*` or `/`, and even conditional operations:"
   ]
  },
  {
   "cell_type": "code",
   "execution_count": null,
   "metadata": {
    "id": "sx4oybvJ0X3i",
    "outputId": "41b235e5-7906-4712-eef0-83d01a0a4e7d"
   },
   "outputs": [],
   "source": [
    "s < 0"
   ]
  },
  {
   "cell_type": "markdown",
   "metadata": {
    "id": "6Tjc84kC0X3j"
   },
   "source": [
    "## Index labels\n",
    "Each item in a `Series` object has a unique identifier called the *index label*. By default, it is simply the rank of the item in the `Series` (starting at `0`) but you can also set the index labels manually:"
   ]
  },
  {
   "cell_type": "code",
   "execution_count": null,
   "metadata": {
    "id": "UkVGys9m0X3j",
    "outputId": "f708af92-1ac6-49a0-adde-e31593c22b67"
   },
   "outputs": [],
   "source": [
    "s2 = pd.Series([68, 83, 112, 68], index=[\"alice\", \"bob\", \"charles\", \"darwin\"])\n",
    "s2"
   ]
  },
  {
   "cell_type": "markdown",
   "metadata": {
    "id": "H147z1-i0X3j"
   },
   "source": [
    "You can then use the `Series` just like a `dict`:"
   ]
  },
  {
   "cell_type": "code",
   "execution_count": null,
   "metadata": {
    "id": "AeYAFYnh0X3j",
    "outputId": "9685d2ae-56fd-486b-9b69-6e2840d9e433"
   },
   "outputs": [],
   "source": [
    "s2[\"bob\"]"
   ]
  },
  {
   "cell_type": "markdown",
   "metadata": {
    "id": "0IFgDrzg0X3j"
   },
   "source": [
    "You can still access the items by integer location, like in a regular array:"
   ]
  },
  {
   "cell_type": "code",
   "execution_count": null,
   "metadata": {
    "id": "tq_W3E7c0X3k",
    "outputId": "c953d97f-7f9a-46c3-baf7-71aba51d538f"
   },
   "outputs": [],
   "source": [
    "s2[1]"
   ]
  },
  {
   "cell_type": "markdown",
   "metadata": {
    "id": "t56oJ9xC0X3k"
   },
   "source": [
    "To make it clear when you are accessing by label or by integer location, it is recommended to always use the `loc` attribute when accessing by label, and the `iloc` attribute when accessing by integer location:"
   ]
  },
  {
   "cell_type": "code",
   "execution_count": null,
   "metadata": {
    "id": "jqNYB8rF0X3k",
    "outputId": "fb5cc95f-d639-4bdc-e52e-6c516dae83ed"
   },
   "outputs": [],
   "source": [
    "s2.loc[\"bob\"]"
   ]
  },
  {
   "cell_type": "code",
   "execution_count": null,
   "metadata": {
    "id": "kaPBDNeP0X3k",
    "outputId": "61f6ebb4-3965-455f-be87-130d595a4dca"
   },
   "outputs": [],
   "source": [
    "s2.iloc[1]"
   ]
  },
  {
   "cell_type": "markdown",
   "metadata": {
    "id": "HSb9_gjI0X3k"
   },
   "source": [
    "Slicing a `Series` also slices the index labels:"
   ]
  },
  {
   "cell_type": "code",
   "execution_count": null,
   "metadata": {
    "id": "b6NVNKgX0X3k",
    "outputId": "a29ab118-fdac-4d86-bb56-f60c2f4db9a4"
   },
   "outputs": [],
   "source": [
    "s2.iloc[1:3]"
   ]
  },
  {
   "cell_type": "markdown",
   "metadata": {
    "id": "JkOhF1pn0X3l"
   },
   "source": [
    "This can lead to unexpected results when using the default numeric labels, so be careful:"
   ]
  },
  {
   "cell_type": "code",
   "execution_count": null,
   "metadata": {
    "id": "xIPYOSZ_0X3l",
    "outputId": "059bdd28-e945-4ce3-a529-5e6962c6cf24"
   },
   "outputs": [],
   "source": [
    "surprise = pd.Series([1000, 1001, 1002, 1003])\n",
    "surprise"
   ]
  },
  {
   "cell_type": "code",
   "execution_count": null,
   "metadata": {
    "id": "ynPlbREq0X3l",
    "outputId": "68a3971c-c31a-4235-837c-11c6a3c94817"
   },
   "outputs": [],
   "source": [
    "surprise_slice = surprise[2:]\n",
    "surprise_slice"
   ]
  },
  {
   "cell_type": "markdown",
   "metadata": {
    "id": "zcioVD_B0X3l"
   },
   "source": [
    "Oh look! The first element has index label `2`. The element with index label `0` is absent from the slice:"
   ]
  },
  {
   "cell_type": "code",
   "execution_count": null,
   "metadata": {
    "id": "RppZsoSW0X3l",
    "outputId": "6b80d771-4045-43f9-987c-63672b31acef"
   },
   "outputs": [],
   "source": [
    "try:\n",
    "    surprise_slice[0]\n",
    "except KeyError as e:\n",
    "    print(\"Key error:\", e)"
   ]
  },
  {
   "cell_type": "markdown",
   "metadata": {
    "id": "KXTKTZgd0X3l"
   },
   "source": [
    "But remember that you can access elements by integer location using the `iloc` attribute. This illustrates another reason why it's always better to use `loc` and `iloc` to access `Series` objects:"
   ]
  },
  {
   "cell_type": "code",
   "execution_count": null,
   "metadata": {
    "id": "TASg8tt50X3l",
    "outputId": "f58f7cc9-8e89-45fc-f44e-96a71c2b85d8"
   },
   "outputs": [],
   "source": [
    "surprise_slice.iloc[0]"
   ]
  },
  {
   "cell_type": "markdown",
   "metadata": {
    "id": "n3oVtPN40X3m"
   },
   "source": [
    "## Init from `dict`\n",
    "You can create a `Series` object from a `dict`. The keys will be used as index labels:"
   ]
  },
  {
   "cell_type": "code",
   "execution_count": null,
   "metadata": {
    "id": "gGUrewGq0X3m",
    "outputId": "9ccc6b9a-002e-40ba-e734-82d1d3204a2b"
   },
   "outputs": [],
   "source": [
    "weights = {\"alice\": 68, \"bob\": 83, \"colin\": 86, \"darwin\": 68}\n",
    "s3 = pd.Series(weights)\n",
    "s3"
   ]
  },
  {
   "cell_type": "markdown",
   "metadata": {
    "id": "v8ziqxS00X3m"
   },
   "source": [
    "You can control which elements you want to include in the `Series` and in what order by explicitly specifying the desired `index`:"
   ]
  },
  {
   "cell_type": "code",
   "execution_count": null,
   "metadata": {
    "id": "EGZOm15m0X3m",
    "outputId": "0f48622b-cd1f-4c96-d786-4d5c7f60961d"
   },
   "outputs": [],
   "source": [
    "s4 = pd.Series(weights, index = [\"colin\", \"alice\"])\n",
    "s4"
   ]
  },
  {
   "cell_type": "markdown",
   "metadata": {
    "id": "CbT3_pc80X3m"
   },
   "source": [
    "## Automatic alignment\n",
    "When an operation involves multiple `Series` objects, `pandas` automatically aligns items by matching index labels."
   ]
  },
  {
   "cell_type": "code",
   "execution_count": null,
   "metadata": {
    "id": "phtV0iUx0X3m",
    "outputId": "68ebc756-ef68-4469-c9e0-177390be6bd4"
   },
   "outputs": [],
   "source": [
    "print(s2.keys())\n",
    "print(s3.keys())\n",
    "\n",
    "s2 + s3"
   ]
  },
  {
   "cell_type": "markdown",
   "metadata": {
    "id": "eyTR6fbF0X3m"
   },
   "source": [
    "The resulting `Series` contains the union of index labels from `s2` and `s3`. Since `\"colin\"` is missing from `s2` and `\"charles\"` is missing from `s3`, these items have a `NaN` result value. (ie. Not-a-Number means *missing*).\n",
    "\n",
    "Automatic alignment is very handy when working with data that may come from various sources with varying structure and missing items. But if you forget to set the right index labels, you can have surprising results:"
   ]
  },
  {
   "cell_type": "code",
   "execution_count": null,
   "metadata": {
    "id": "qzWUqbtM0X3n",
    "outputId": "b058b6a6-fed6-4313-d231-b0d1d1aa1d22"
   },
   "outputs": [],
   "source": [
    "s5 = pd.Series([1000,1000,1000,1000])\n",
    "print(\"s2 =\", s2.values)\n",
    "print(\"s5 =\", s5.values)\n",
    "\n",
    "s2 + s5"
   ]
  },
  {
   "cell_type": "markdown",
   "metadata": {
    "id": "RMa4gA5k0X3n"
   },
   "source": [
    "Pandas could not align the `Series`, since their labels do not match at all, hence the full `NaN` result."
   ]
  },
  {
   "cell_type": "markdown",
   "metadata": {
    "id": "YM5vEz_M0X3n"
   },
   "source": [
    "## Init with a scalar\n",
    "You can also initialize a `Series` object using a scalar and a list of index labels: all items will be set to the scalar."
   ]
  },
  {
   "cell_type": "code",
   "execution_count": null,
   "metadata": {
    "id": "iGy2V2_B0X3n",
    "outputId": "0903a1be-f0db-4ea5-ddfe-a6a3efaf34ec"
   },
   "outputs": [],
   "source": [
    "meaning = pd.Series(42, [\"life\", \"universe\", \"everything\"])\n",
    "meaning"
   ]
  },
  {
   "cell_type": "markdown",
   "metadata": {
    "id": "cgIRWhAY0X3n"
   },
   "source": [
    "## `Series` name\n",
    "A `Series` can have a `name`:"
   ]
  },
  {
   "cell_type": "code",
   "execution_count": null,
   "metadata": {
    "id": "m9qZREfa0X3n",
    "outputId": "db283384-64a4-4346-e0f7-a0ce7bad57e4"
   },
   "outputs": [],
   "source": [
    "s6 = pd.Series([83, 68], index=[\"bob\", \"alice\"], name=\"weights\")\n",
    "s6"
   ]
  },
  {
   "cell_type": "markdown",
   "metadata": {
    "id": "m5YQurY00X3n"
   },
   "source": [
    "## Plotting a `Series`\n",
    "Pandas makes it easy to plot `Series` data using matplotlib (for more details on matplotlib, check out the [matplotlib tutorial](tools_matplotlib.ipynb)). Just import matplotlib and call the `plot()` method:"
   ]
  },
  {
   "cell_type": "code",
   "execution_count": 3,
   "metadata": {
    "id": "B6YkbMKL0X3n",
    "outputId": "d329f418-8b2b-4261-e519-53c822d57c33",
    "scrolled": true
   },
   "outputs": [
    {
     "name": "stdout",
     "output_type": "stream",
     "text": [
      "zsh:1: /home/aahnik/sessions-attended/2023/gdsc-ml-ds-bootcamp/days_np_pd/.venv/bin/pip: bad interpreter: /home/aahnik/sessions-attended/2023/gdsc-ml-ds-bootcamp/day2/.venv/bin/python3.11: no such file or directory\n",
      "Requirement already satisfied: matplotlib in /home/linuxbrew/.linuxbrew/opt/python@3.11/lib/python3.11/site-packages (3.7.1)\n",
      "Requirement already satisfied: contourpy>=1.0.1 in /home/linuxbrew/.linuxbrew/opt/python@3.11/lib/python3.11/site-packages (from matplotlib) (1.0.7)\n",
      "Requirement already satisfied: cycler>=0.10 in /home/linuxbrew/.linuxbrew/opt/python@3.11/lib/python3.11/site-packages (from matplotlib) (0.11.0)\n",
      "Requirement already satisfied: fonttools>=4.22.0 in /home/linuxbrew/.linuxbrew/opt/python@3.11/lib/python3.11/site-packages (from matplotlib) (4.39.2)\n",
      "Requirement already satisfied: kiwisolver>=1.0.1 in /home/linuxbrew/.linuxbrew/opt/python@3.11/lib/python3.11/site-packages (from matplotlib) (1.4.4)\n",
      "Requirement already satisfied: numpy>=1.20 in /home/linuxbrew/.linuxbrew/opt/python@3.11/lib/python3.11/site-packages (from matplotlib) (1.24.2)\n",
      "Requirement already satisfied: packaging>=20.0 in /home/linuxbrew/.linuxbrew/opt/python@3.11/lib/python3.11/site-packages (from matplotlib) (23.0)\n",
      "Requirement already satisfied: pillow>=6.2.0 in /home/linuxbrew/.linuxbrew/opt/python@3.11/lib/python3.11/site-packages (from matplotlib) (9.4.0)\n",
      "Requirement already satisfied: pyparsing>=2.3.1 in /home/linuxbrew/.linuxbrew/opt/python@3.11/lib/python3.11/site-packages (from matplotlib) (3.0.9)\n",
      "Requirement already satisfied: python-dateutil>=2.7 in /home/aahnik/.local/lib/python3.11/site-packages (from matplotlib) (2.8.2)\n",
      "Requirement already satisfied: six>=1.5 in /home/aahnik/.local/lib/python3.11/site-packages (from python-dateutil>=2.7->matplotlib) (1.16.0)\n"
     ]
    },
    {
     "ename": "ModuleNotFoundError",
     "evalue": "No module named 'matplotlib'",
     "output_type": "error",
     "traceback": [
      "\u001b[0;31m---------------------------------------------------------------------------\u001b[0m",
      "\u001b[0;31mModuleNotFoundError\u001b[0m                       Traceback (most recent call last)",
      "Cell \u001b[0;32mIn[3], line 2\u001b[0m\n\u001b[1;32m      1\u001b[0m get_ipython()\u001b[39m.\u001b[39msystem(\u001b[39m'\u001b[39m\u001b[39mpip install matplotlib\u001b[39m\u001b[39m'\u001b[39m)\n\u001b[0;32m----> 2\u001b[0m \u001b[39mimport\u001b[39;00m \u001b[39mmatplotlib\u001b[39;00m\u001b[39m.\u001b[39;00m\u001b[39mpyplot\u001b[39;00m \u001b[39mas\u001b[39;00m \u001b[39mplt\u001b[39;00m\n\u001b[1;32m      3\u001b[0m temperatures \u001b[39m=\u001b[39m [\u001b[39m4.4\u001b[39m,\u001b[39m5.1\u001b[39m,\u001b[39m6.1\u001b[39m,\u001b[39m6.2\u001b[39m,\u001b[39m6.1\u001b[39m,\u001b[39m6.1\u001b[39m,\u001b[39m5.7\u001b[39m,\u001b[39m5.2\u001b[39m,\u001b[39m4.7\u001b[39m,\u001b[39m4.1\u001b[39m,\u001b[39m3.9\u001b[39m,\u001b[39m3.5\u001b[39m]\n\u001b[1;32m      4\u001b[0m s7 \u001b[39m=\u001b[39m pd\u001b[39m.\u001b[39mSeries(temperatures, name\u001b[39m=\u001b[39m\u001b[39m\"\u001b[39m\u001b[39mTemperature\u001b[39m\u001b[39m\"\u001b[39m)\n",
      "\u001b[0;31mModuleNotFoundError\u001b[0m: No module named 'matplotlib'"
     ]
    }
   ],
   "source": [
    "temperatures = [4.4,5.1,6.1,6.2,6.1,6.1,5.7,5.2,4.7,4.1,3.9,3.5]\n",
    "s7 = pd.Series(temperatures, name=\"Temperature\")\n",
    "s7.plot()\n",
    "plt.show()"
   ]
  },
  {
   "cell_type": "code",
   "execution_count": 5,
   "metadata": {},
   "outputs": [
    {
     "name": "stdout",
     "output_type": "stream",
     "text": [
      "zsh:1: /home/aahnik/sessions-attended/2023/gdsc-ml-ds-bootcamp/days_np_pd/.venv/bin/pip: bad interpreter: /home/aahnik/sessions-attended/2023/gdsc-ml-ds-bootcamp/day2/.venv/bin/python3.11: no such file or directory\n",
      "Found existing installation: matplotlib 3.7.1\n",
      "Uninstalling matplotlib-3.7.1:\n",
      "  Successfully uninstalled matplotlib-3.7.1\n"
     ]
    }
   ],
   "source": [
    "!pip uninstall matplotlib -y"
   ]
  },
  {
   "cell_type": "code",
   "execution_count": null,
   "metadata": {},
   "outputs": [],
   "source": []
  },
  {
   "cell_type": "code",
   "execution_count": null,
   "metadata": {},
   "outputs": [
    {
     "ename": "ModuleNotFoundError",
     "evalue": "No module named 'matplotlib'",
     "output_type": "error",
     "traceback": [
      "\u001b[0;31m---------------------------------------------------------------------------\u001b[0m",
      "\u001b[0;31mModuleNotFoundError\u001b[0m                       Traceback (most recent call last)",
      "Cell \u001b[0;32mIn[2], line 1\u001b[0m\n\u001b[0;32m----> 1\u001b[0m \u001b[39mimport\u001b[39;00m \u001b[39mmatplotlib\u001b[39;00m\u001b[39m.\u001b[39;00m\u001b[39mpyplot\u001b[39;00m \u001b[39mas\u001b[39;00m \u001b[39mplt\u001b[39;00m\n",
      "\u001b[0;31mModuleNotFoundError\u001b[0m: No module named 'matplotlib'"
     ]
    }
   ],
   "source": [
    "import matplotlib.pyplot as plt"
   ]
  },
  {
   "cell_type": "code",
   "execution_count": null,
   "metadata": {},
   "outputs": [],
   "source": []
  },
  {
   "cell_type": "markdown",
   "metadata": {
    "id": "YQoVZrgY0X3o"
   },
   "source": [
    "There are *many* options for plotting your data. It is not necessary to list them all here: if you need a particular type of plot (histograms, pie charts, etc.), just look for it in the excellent [Visualization](http://pandas.pydata.org/pandas-docs/stable/visualization.html) section of pandas' documentation, and look at the example code."
   ]
  },
  {
   "cell_type": "markdown",
   "metadata": {
    "id": "_8FKWo5E0X3o"
   },
   "source": [
    "# Handling time\n",
    "Many datasets have timestamps, and pandas is awesome at manipulating such data:\n",
    "* it can represent periods (such as 2016Q3) and frequencies (such as \"monthly\"),\n",
    "* it can convert periods to actual timestamps, and *vice versa*,\n",
    "* it can resample data and aggregate values any way you like,\n",
    "* it can handle timezones.\n",
    "\n",
    "## Time range\n",
    "Let's start by creating a time series using `pd.date_range()`. This returns a `DatetimeIndex` containing one datetime per hour for 12 hours starting on October 29th 2016 at 5:30pm."
   ]
  },
  {
   "cell_type": "code",
   "execution_count": 5,
   "metadata": {
    "id": "QehLhL210X3o",
    "outputId": "7656a2cd-eab5-46d8-d6e3-8b1a89840b5b"
   },
   "outputs": [
    {
     "data": {
      "text/plain": [
       "DatetimeIndex(['2016-10-29 17:30:00', '2016-10-29 18:30:00',\n",
       "               '2016-10-29 19:30:00', '2016-10-29 20:30:00',\n",
       "               '2016-10-29 21:30:00', '2016-10-29 22:30:00',\n",
       "               '2016-10-29 23:30:00', '2016-10-30 00:30:00',\n",
       "               '2016-10-30 01:30:00', '2016-10-30 02:30:00',\n",
       "               '2016-10-30 03:30:00', '2016-10-30 04:30:00'],\n",
       "              dtype='datetime64[ns]', freq='H')"
      ]
     },
     "execution_count": 5,
     "metadata": {},
     "output_type": "execute_result"
    }
   ],
   "source": [
    "import pandas as pd\n",
    "dates = pd.date_range('2016/10/29 5:30pm', periods=12, freq='H')\n",
    "dates"
   ]
  },
  {
   "cell_type": "markdown",
   "metadata": {
    "id": "0-XZrgRu0X3o"
   },
   "source": [
    "This `DatetimeIndex` may be used as an index in a `Series`:"
   ]
  },
  {
   "cell_type": "code",
   "execution_count": null,
   "metadata": {
    "id": "gQXWnEfL0X3o",
    "outputId": "4ae5040d-39ae-4091-e299-a8da5b73a043"
   },
   "outputs": [],
   "source": [
    "temp_series = pd.Series(temperatures, dates)\n",
    "temp_series"
   ]
  },
  {
   "cell_type": "markdown",
   "metadata": {
    "id": "KJyZ4QU00X3o"
   },
   "source": [
    "Let's plot this series:"
   ]
  },
  {
   "cell_type": "code",
   "execution_count": null,
   "metadata": {
    "id": "-s42UvCu0X3o",
    "outputId": "ff2c4f7d-7014-4b1f-e553-5caddb3d80df"
   },
   "outputs": [],
   "source": [
    "temp_series.plot(kind=\"bar\")\n",
    "\n",
    "plt.grid(True)\n",
    "plt.show()"
   ]
  },
  {
   "cell_type": "markdown",
   "metadata": {
    "id": "osTtqQNp0X3p"
   },
   "source": [
    "## Resampling\n",
    "Pandas lets us resample a time series very simply. Just call the `resample()` method and specify a new frequency:"
   ]
  },
  {
   "cell_type": "code",
   "execution_count": null,
   "metadata": {
    "id": "LkpLqh790X3p",
    "outputId": "2938c44c-3809-40b6-cf4d-9c066e3c27d8"
   },
   "outputs": [],
   "source": [
    "temp_series_freq_2H = temp_series.resample(\"2H\")\n",
    "temp_series_freq_2H"
   ]
  },
  {
   "cell_type": "markdown",
   "metadata": {
    "id": "oJ7MGAqt0X3p"
   },
   "source": [
    "The resampling operation is actually a deferred operation, which is why we did not get a `Series` object, but a `DatetimeIndexResampler` object instead. To actually perform the resampling operation, we can simply call the `mean()` method: Pandas will compute the mean of every pair of consecutive hours:"
   ]
  },
  {
   "cell_type": "code",
   "execution_count": null,
   "metadata": {
    "id": "bRy7LCJu0X3p"
   },
   "outputs": [],
   "source": [
    "temp_series_freq_2H = temp_series_freq_2H.mean()"
   ]
  },
  {
   "cell_type": "markdown",
   "metadata": {
    "id": "PchIFGPX0X3p"
   },
   "source": [
    "Let's plot the result:"
   ]
  },
  {
   "cell_type": "code",
   "execution_count": null,
   "metadata": {
    "id": "erwG6yEP0X3p",
    "outputId": "7299b7e1-a1c6-40c2-bce3-b58ce77b6351"
   },
   "outputs": [],
   "source": [
    "temp_series_freq_2H.plot(kind=\"bar\")\n",
    "plt.show()"
   ]
  },
  {
   "cell_type": "markdown",
   "metadata": {
    "id": "NMCKpw0q0X3p"
   },
   "source": [
    "Note how the values have automatically been aggregated into 2-hour periods. If we look at the 6-8pm period, for example, we had a value of `5.1` at 6:30pm, and `6.1` at 7:30pm. After resampling, we just have one value of `5.6`, which is the mean of `5.1` and `6.1`. Rather than computing the mean, we could have used any other aggregation function, for example we can decide to keep the minimum value of each period:"
   ]
  },
  {
   "cell_type": "code",
   "execution_count": null,
   "metadata": {
    "id": "l2M3uLbk0X3p",
    "outputId": "1d00700b-7045-498b-ad75-977f807290dd"
   },
   "outputs": [],
   "source": [
    "temp_series_freq_2H = temp_series.resample(\"2H\").min()\n",
    "temp_series_freq_2H"
   ]
  },
  {
   "cell_type": "markdown",
   "metadata": {
    "id": "kOrzMQO40X3q"
   },
   "source": [
    "Or, equivalently, we could use the `apply()` method instead:"
   ]
  },
  {
   "cell_type": "code",
   "execution_count": null,
   "metadata": {
    "id": "QAJY0uOP0X3q",
    "outputId": "6708183f-90d6-4d02-baa1-5fab6b236045"
   },
   "outputs": [],
   "source": [
    "temp_series_freq_2H = temp_series.resample(\"2H\").apply(np.min)\n",
    "temp_series_freq_2H"
   ]
  },
  {
   "cell_type": "markdown",
   "metadata": {
    "id": "uP0-YXx50X3q"
   },
   "source": [
    "## Upsampling and interpolation\n",
    "This was an example of downsampling. We can also upsample (ie. increase the frequency), but this creates holes in our data:"
   ]
  },
  {
   "cell_type": "code",
   "execution_count": null,
   "metadata": {
    "id": "qSCwicgG0X3q",
    "outputId": "5df350b2-858a-4277-8c7a-0fdefd53de93"
   },
   "outputs": [],
   "source": [
    "temp_series_freq_15min = temp_series.resample(\"15Min\").mean()\n",
    "temp_series_freq_15min.head(n=10) # `head` displays the top n values"
   ]
  },
  {
   "cell_type": "markdown",
   "metadata": {
    "id": "2A_cQocN0X3q"
   },
   "source": [
    "One solution is to fill the gaps by interpolating. We just call the `interpolate()` method. The default is to use linear interpolation, but we can also select another method, such as cubic interpolation:"
   ]
  },
  {
   "cell_type": "code",
   "execution_count": null,
   "metadata": {
    "id": "Ou8uh7UG0X3q",
    "outputId": "43810ee0-c5b9-4c61-c8f1-30a49389f44c",
    "scrolled": true
   },
   "outputs": [],
   "source": [
    "temp_series_freq_15min = temp_series.resample(\"15Min\").interpolate(method=\"cubic\")\n",
    "temp_series_freq_15min.head(n=10)"
   ]
  },
  {
   "cell_type": "code",
   "execution_count": null,
   "metadata": {
    "id": "6wttfxMs0X3q",
    "outputId": "b9fa9632-e9ce-4154-f321-988fc97a35f5"
   },
   "outputs": [],
   "source": [
    "temp_series.plot(label=\"Period: 1 hour\")\n",
    "temp_series_freq_15min.plot(label=\"Period: 15 minutes\")\n",
    "plt.legend()\n",
    "plt.show()"
   ]
  },
  {
   "cell_type": "markdown",
   "metadata": {
    "id": "CPSu85730X3r"
   },
   "source": [
    "## Timezones\n",
    "By default datetimes are *naive*: they are not aware of timezones, so 2016-10-30 02:30 might mean October 30th 2016 at 2:30am in Paris or in New York. We can make datetimes timezone *aware* by calling the `tz_localize()` method:"
   ]
  },
  {
   "cell_type": "code",
   "execution_count": null,
   "metadata": {
    "id": "0m6ybn1j0X3r",
    "outputId": "8f2aaf6d-14ba-45a0-f62d-9813040c3062"
   },
   "outputs": [],
   "source": [
    "temp_series_ny = temp_series.tz_localize(\"America/New_York\")\n",
    "temp_series_ny"
   ]
  },
  {
   "cell_type": "markdown",
   "metadata": {
    "id": "F6Tmc96y0X3r"
   },
   "source": [
    "Note that `-04:00` is now appended to all the datetimes. This means that these datetimes refer to [UTC](https://en.wikipedia.org/wiki/Coordinated_Universal_Time) - 4 hours.\n",
    "\n",
    "We can convert these datetimes to Paris time like this:"
   ]
  },
  {
   "cell_type": "code",
   "execution_count": null,
   "metadata": {
    "id": "jCGLVjpd0X3r",
    "outputId": "5f8216e0-cc72-416f-feab-a82e8410714a"
   },
   "outputs": [],
   "source": [
    "temp_series_paris = temp_series_ny.tz_convert(\"Europe/Paris\")\n",
    "temp_series_paris"
   ]
  },
  {
   "cell_type": "markdown",
   "metadata": {
    "id": "ItK388eO0X3r"
   },
   "source": [
    "You may have noticed that the UTC offset changes from `+02:00` to `+01:00`: this is because France switches to winter time at 3am that particular night (time goes back to 2am). Notice that 2:30am occurs twice! Let's go back to a naive representation (if you log some data hourly using local time, without storing the timezone, you might get something like this):"
   ]
  },
  {
   "cell_type": "code",
   "execution_count": null,
   "metadata": {
    "id": "1vqH89Zd0X3r",
    "outputId": "1eb49082-31e4-40cf-8bc8-9358464e9f03"
   },
   "outputs": [],
   "source": [
    "temp_series_paris_naive = temp_series_paris.tz_localize(None)\n",
    "temp_series_paris_naive"
   ]
  },
  {
   "cell_type": "markdown",
   "metadata": {
    "id": "mBWW7r8I0X3r"
   },
   "source": [
    "Now `02:30` is really ambiguous. If we try to localize these naive datetimes to the Paris timezone, we get an error:"
   ]
  },
  {
   "cell_type": "code",
   "execution_count": null,
   "metadata": {
    "id": "Id6iHSVb0X3r",
    "outputId": "db86f746-9c28-4638-c2d9-4763e1163acc"
   },
   "outputs": [],
   "source": [
    "try:\n",
    "    temp_series_paris_naive.tz_localize(\"Europe/Paris\")\n",
    "except Exception as e:\n",
    "    print(type(e))\n",
    "    print(e)"
   ]
  },
  {
   "cell_type": "markdown",
   "metadata": {
    "id": "dp3FH4E50X3s"
   },
   "source": [
    "Fortunately using the `ambiguous` argument we can tell pandas to infer the right DST (Daylight Saving Time) based on the order of the ambiguous timestamps:"
   ]
  },
  {
   "cell_type": "code",
   "execution_count": null,
   "metadata": {
    "id": "qTX9xvxK0X3s",
    "outputId": "1d8a1788-0d6e-4740-ee4a-ba9facefe054"
   },
   "outputs": [],
   "source": [
    "temp_series_paris_naive.tz_localize(\"Europe/Paris\", ambiguous=\"infer\")"
   ]
  },
  {
   "cell_type": "markdown",
   "metadata": {
    "id": "3Xt9OhV40X3s"
   },
   "source": [
    "## Periods\n",
    "The `pd.period_range()` function returns a `PeriodIndex` instead of a `DatetimeIndex`. For example, let's get all quarters in 2016 and 2017:"
   ]
  },
  {
   "cell_type": "code",
   "execution_count": null,
   "metadata": {
    "id": "ngB6C1640X3s",
    "outputId": "3da7fdd1-9c9a-4cc7-b70c-f7d4a43200a3"
   },
   "outputs": [],
   "source": [
    "quarters = pd.period_range('2016Q1', periods=8, freq='Q')\n",
    "quarters"
   ]
  },
  {
   "cell_type": "markdown",
   "metadata": {
    "id": "qzYQu-n80X3s"
   },
   "source": [
    "Adding a number `N` to a `PeriodIndex` shifts the periods by `N` times the `PeriodIndex`'s frequency:"
   ]
  },
  {
   "cell_type": "code",
   "execution_count": null,
   "metadata": {
    "id": "MX8J7cw00X3s",
    "outputId": "5494326c-65b4-4972-b564-2854685f910f"
   },
   "outputs": [],
   "source": [
    "quarters + 3"
   ]
  },
  {
   "cell_type": "markdown",
   "metadata": {
    "id": "hVKfUb-d0X3s"
   },
   "source": [
    "The `asfreq()` method lets us change the frequency of the `PeriodIndex`. All periods are lengthened or shortened accordingly. For example, let's convert all the quarterly periods to monthly periods (zooming in):"
   ]
  },
  {
   "cell_type": "code",
   "execution_count": null,
   "metadata": {
    "id": "fltfnfJ10X3s",
    "outputId": "52d4b636-0666-4db7-8434-11b891e964fb"
   },
   "outputs": [],
   "source": [
    "quarters.asfreq(\"M\")"
   ]
  },
  {
   "cell_type": "markdown",
   "metadata": {
    "id": "6HWbCper0X3t"
   },
   "source": [
    "By default, the `asfreq` zooms on the end of each period. We can tell it to zoom on the start of each period instead:"
   ]
  },
  {
   "cell_type": "code",
   "execution_count": null,
   "metadata": {
    "id": "oizspyh10X3t",
    "outputId": "dec25db7-19b9-485b-85d9-113a641b1485"
   },
   "outputs": [],
   "source": [
    "quarters.asfreq(\"M\", how=\"start\")"
   ]
  },
  {
   "cell_type": "markdown",
   "metadata": {
    "id": "bq_AKw7D0X3t"
   },
   "source": [
    "And we can zoom out:"
   ]
  },
  {
   "cell_type": "code",
   "execution_count": null,
   "metadata": {
    "id": "0b22211h0X3t",
    "outputId": "62db1d82-1cd4-482d-b607-a6dbb9cfb812"
   },
   "outputs": [],
   "source": [
    "quarters.asfreq(\"A\")"
   ]
  },
  {
   "cell_type": "markdown",
   "metadata": {
    "id": "bE1jQHLV0X3t"
   },
   "source": [
    "Of course we can create a `Series` with a `PeriodIndex`:"
   ]
  },
  {
   "cell_type": "code",
   "execution_count": null,
   "metadata": {
    "id": "IXovREmL0X3t",
    "outputId": "fce94c87-d5e1-43e1-89d9-2cf08b052aa6"
   },
   "outputs": [],
   "source": [
    "quarterly_revenue = pd.Series([300, 320, 290, 390, 320, 360, 310, 410], index = quarters)\n",
    "quarterly_revenue"
   ]
  },
  {
   "cell_type": "code",
   "execution_count": null,
   "metadata": {
    "id": "ooRS235T0X3t",
    "outputId": "b2fcc2fe-ae58-4a60-c548-70fb66d60679"
   },
   "outputs": [],
   "source": [
    "quarterly_revenue.plot(kind=\"line\")\n",
    "plt.show()"
   ]
  },
  {
   "cell_type": "markdown",
   "metadata": {
    "id": "tvIib0fL0X3t"
   },
   "source": [
    "We can convert periods to timestamps by calling `to_timestamp`. By default this will give us the first day of each period, but by setting `how` and `freq`, we can get the last hour of each period:"
   ]
  },
  {
   "cell_type": "code",
   "execution_count": null,
   "metadata": {
    "id": "KPj7TGJk0X3t",
    "outputId": "a2462fc0-6b5f-4484-b53b-daafcfaca381"
   },
   "outputs": [],
   "source": [
    "last_hours = quarterly_revenue.to_timestamp(how=\"end\", freq=\"H\")\n",
    "last_hours"
   ]
  },
  {
   "cell_type": "markdown",
   "metadata": {
    "id": "lPj34DXv0X3u"
   },
   "source": [
    "And back to periods by calling `to_period`:"
   ]
  },
  {
   "cell_type": "code",
   "execution_count": null,
   "metadata": {
    "id": "8ix_XAcp0X3u",
    "outputId": "d557b05b-77ed-495a-cb71-3ea83591ef21"
   },
   "outputs": [],
   "source": [
    "last_hours.to_period()"
   ]
  },
  {
   "cell_type": "markdown",
   "metadata": {
    "id": "A74A1Lwe0X3u"
   },
   "source": [
    "Pandas also provides many other time-related functions that we recommend you check out in the [documentation](http://pandas.pydata.org/pandas-docs/stable/timeseries.html). To whet your appetite, here is one way to get the last business day of each month in 2016, at 9am:"
   ]
  },
  {
   "cell_type": "code",
   "execution_count": null,
   "metadata": {
    "id": "LSYSkcZK0X3u",
    "outputId": "eca54eff-ebae-4355-ea1a-98a5c30868fc"
   },
   "outputs": [],
   "source": [
    "months_2016 = pd.period_range(\"2016\", periods=12, freq=\"M\")\n",
    "one_day_after_last_days = months_2016.asfreq(\"D\") + 1\n",
    "last_bdays = one_day_after_last_days.to_timestamp() - pd.tseries.offsets.BDay()\n",
    "last_bdays.to_period(\"H\") + 9"
   ]
  },
  {
   "cell_type": "markdown",
   "metadata": {
    "id": "57NFGXfb0X3u"
   },
   "source": [
    "# `DataFrame` objects\n",
    "A DataFrame object represents a spreadsheet, with cell values, column names and row index labels. You can define expressions to compute columns based on other columns, create pivot-tables, group rows, draw graphs, etc. You can see `DataFrame`s as dictionaries of `Series`.\n",
    "\n",
    "## Creating a `DataFrame`\n",
    "You can create a DataFrame by passing a dictionary of `Series` objects:"
   ]
  },
  {
   "cell_type": "code",
   "execution_count": null,
   "metadata": {
    "id": "P9SbsKSz0X3u",
    "outputId": "52701da8-658e-4d17-ce45-5c712b3efbd1"
   },
   "outputs": [],
   "source": [
    "people_dict = {\n",
    "    \"weight\": pd.Series([68, 83, 112], index=[\"alice\", \"bob\", \"charles\"]),\n",
    "    \"birthyear\": pd.Series([1984, 1985, 1992], index=[\"bob\", \"alice\", \"charles\"], name=\"year\"),\n",
    "    \"children\": pd.Series([0, 3], index=[\"charles\", \"bob\"]),\n",
    "    \"hobby\": pd.Series([\"Biking\", \"Dancing\"], index=[\"alice\", \"bob\"]),\n",
    "}\n",
    "people = pd.DataFrame(people_dict)\n",
    "people"
   ]
  },
  {
   "cell_type": "markdown",
   "metadata": {
    "id": "CY6rLoMV0X3u"
   },
   "source": [
    "A few things to note:\n",
    "* the `Series` were automatically aligned based on their index,\n",
    "* missing values are represented as `NaN`,\n",
    "* `Series` names are ignored (the name `\"year\"` was dropped),\n",
    "* `DataFrame`s are displayed nicely in Jupyter notebooks, woohoo!"
   ]
  },
  {
   "cell_type": "markdown",
   "metadata": {
    "id": "w2vKLxeM0X3u"
   },
   "source": [
    "You can access columns pretty much as you would expect. They are returned as `Series` objects:"
   ]
  },
  {
   "cell_type": "code",
   "execution_count": null,
   "metadata": {
    "id": "o77pn5jS0X3u",
    "outputId": "1a3c93bd-9361-44a2-cd76-ea1a15418d21"
   },
   "outputs": [],
   "source": [
    "people[\"birthyear\"]"
   ]
  },
  {
   "cell_type": "markdown",
   "metadata": {
    "id": "S4QY2tgR0X3v"
   },
   "source": [
    "You can also get multiple columns at once:"
   ]
  },
  {
   "cell_type": "code",
   "execution_count": null,
   "metadata": {
    "id": "eg-KoFUU0X3v",
    "outputId": "d51a93b9-5aa8-4bd4-c877-8e350d51edac"
   },
   "outputs": [],
   "source": [
    "people[[\"birthyear\", \"hobby\"]]"
   ]
  },
  {
   "cell_type": "markdown",
   "metadata": {
    "id": "qqaflLXR0X3v"
   },
   "source": [
    "If you pass a list of columns and/or index row labels to the `DataFrame` constructor, it will guarantee that these columns and/or rows will exist, in that order, and no other column/row will exist. For example:"
   ]
  },
  {
   "cell_type": "code",
   "execution_count": null,
   "metadata": {
    "id": "OQEC9PS_0X3v",
    "outputId": "f5c5dc31-856e-4821-92f7-dc4f647ef968"
   },
   "outputs": [],
   "source": [
    "d2 = pd.DataFrame(\n",
    "        people_dict,\n",
    "        columns=[\"birthyear\", \"weight\", \"height\"],\n",
    "        index=[\"bob\", \"alice\", \"eugene\"]\n",
    "     )\n",
    "d2"
   ]
  },
  {
   "cell_type": "markdown",
   "metadata": {
    "id": "KdvizLAD0X3v"
   },
   "source": [
    "Another convenient way to create a `DataFrame` is to pass all the values to the constructor as an `ndarray`, or a list of lists, and specify the column names and row index labels separately:"
   ]
  },
  {
   "cell_type": "code",
   "execution_count": null,
   "metadata": {
    "id": "xIQsoeiT0X3v",
    "outputId": "3f2b823f-c1b0-4110-e0f2-0e9b2aa99f9f"
   },
   "outputs": [],
   "source": [
    "values = [\n",
    "            [1985, np.nan, \"Biking\",   68],\n",
    "            [1984, 3,      \"Dancing\",  83],\n",
    "            [1992, 0,      np.nan,    112]\n",
    "         ]\n",
    "d3 = pd.DataFrame(\n",
    "        values,\n",
    "        columns=[\"birthyear\", \"children\", \"hobby\", \"weight\"],\n",
    "        index=[\"alice\", \"bob\", \"charles\"]\n",
    "     )\n",
    "d3"
   ]
  },
  {
   "cell_type": "markdown",
   "metadata": {
    "id": "YHlD7DCN0X3v"
   },
   "source": [
    "To specify missing values, you can either use `np.nan` or NumPy's masked arrays:"
   ]
  },
  {
   "cell_type": "code",
   "execution_count": null,
   "metadata": {
    "id": "13yY_4xj0X3v",
    "outputId": "3e980c80-0330-4c35-90e4-2ab47995c6db"
   },
   "outputs": [],
   "source": [
    "masked_array = np.ma.asarray(values, dtype=np.object)\n",
    "masked_array[(0, 2), (1, 2)] = np.ma.masked\n",
    "d3 = pd.DataFrame(\n",
    "        masked_array,\n",
    "        columns=[\"birthyear\", \"children\", \"hobby\", \"weight\"],\n",
    "        index=[\"alice\", \"bob\", \"charles\"]\n",
    "     )\n",
    "d3"
   ]
  },
  {
   "cell_type": "markdown",
   "metadata": {
    "id": "YLq0DhbO0X3v"
   },
   "source": [
    "Instead of an `ndarray`, you can also pass a `DataFrame` object:"
   ]
  },
  {
   "cell_type": "code",
   "execution_count": null,
   "metadata": {
    "id": "2iPZ8yx70X3w",
    "outputId": "43df2266-4096-4b19-8428-c84523892906"
   },
   "outputs": [],
   "source": [
    "d4 = pd.DataFrame(\n",
    "         d3,\n",
    "         columns=[\"hobby\", \"children\"],\n",
    "         index=[\"alice\", \"bob\"]\n",
    "     )\n",
    "d4"
   ]
  },
  {
   "cell_type": "markdown",
   "metadata": {
    "id": "1v-5PQdO0X3w"
   },
   "source": [
    "It is also possible to create a `DataFrame` with a dictionary (or list) of dictionaries (or list):"
   ]
  },
  {
   "cell_type": "code",
   "execution_count": null,
   "metadata": {
    "id": "8JEuCDK60X3w",
    "outputId": "8a285800-f532-41b2-c467-16a9802673f9"
   },
   "outputs": [],
   "source": [
    "people = pd.DataFrame({\n",
    "    \"birthyear\": {\"alice\":1985, \"bob\": 1984, \"charles\": 1992},\n",
    "    \"hobby\": {\"alice\":\"Biking\", \"bob\": \"Dancing\"},\n",
    "    \"weight\": {\"alice\":68, \"bob\": 83, \"charles\": 112},\n",
    "    \"children\": {\"bob\": 3, \"charles\": 0}\n",
    "})\n",
    "people"
   ]
  },
  {
   "cell_type": "markdown",
   "metadata": {
    "id": "qMr78CAX0X3w"
   },
   "source": [
    "## Multi-indexing\n",
    "If all columns are tuples of the same size, then they are understood as a multi-index. The same goes for row index labels. For example:"
   ]
  },
  {
   "cell_type": "code",
   "execution_count": null,
   "metadata": {
    "id": "9YlVxsF40X3w",
    "outputId": "266b5843-e3af-4105-b84e-08cf11a6a6b6"
   },
   "outputs": [],
   "source": [
    "d5 = pd.DataFrame(\n",
    "  {\n",
    "    (\"public\", \"birthyear\"):\n",
    "        {(\"Paris\",\"alice\"):1985, (\"Paris\",\"bob\"): 1984, (\"London\",\"charles\"): 1992},\n",
    "    (\"public\", \"hobby\"):\n",
    "        {(\"Paris\",\"alice\"):\"Biking\", (\"Paris\",\"bob\"): \"Dancing\"},\n",
    "    (\"private\", \"weight\"):\n",
    "        {(\"Paris\",\"alice\"):68, (\"Paris\",\"bob\"): 83, (\"London\",\"charles\"): 112},\n",
    "    (\"private\", \"children\"):\n",
    "        {(\"Paris\", \"alice\"):np.nan, (\"Paris\",\"bob\"): 3, (\"London\",\"charles\"): 0}\n",
    "  }\n",
    ")\n",
    "d5"
   ]
  },
  {
   "cell_type": "markdown",
   "metadata": {
    "id": "Z1h-1rB40X3w"
   },
   "source": [
    "You can now get a `DataFrame` containing all the `\"public\"` columns very simply:"
   ]
  },
  {
   "cell_type": "code",
   "execution_count": null,
   "metadata": {
    "id": "QXV0lbjb0X3w",
    "outputId": "2add1294-9d76-4d39-8051-0826dc68aa0d"
   },
   "outputs": [],
   "source": [
    "d5[\"public\"]"
   ]
  },
  {
   "cell_type": "code",
   "execution_count": null,
   "metadata": {
    "id": "89UKWIHO0X3w",
    "outputId": "12be2eca-208d-45ad-b5c7-5c300855acea"
   },
   "outputs": [],
   "source": [
    "d5[\"public\", \"hobby\"]  # Same result as d5[\"public\"][\"hobby\"]"
   ]
  },
  {
   "cell_type": "markdown",
   "metadata": {
    "id": "_lTjOpcE0X3x"
   },
   "source": [
    "## Dropping a level\n",
    "Let's look at `d5` again:"
   ]
  },
  {
   "cell_type": "code",
   "execution_count": null,
   "metadata": {
    "id": "qxetN_RT0X3x",
    "outputId": "81d3ec3e-5d6c-4dd5-cf65-20d0aeef5033"
   },
   "outputs": [],
   "source": [
    "d5"
   ]
  },
  {
   "cell_type": "markdown",
   "metadata": {
    "id": "mOXwncYm0X3x"
   },
   "source": [
    "There are two levels of columns, and two levels of indices. We can drop a column level by calling `droplevel()` (the same goes for indices):"
   ]
  },
  {
   "cell_type": "code",
   "execution_count": null,
   "metadata": {
    "id": "tDv5c9wN0X3x",
    "outputId": "8ab78478-9946-42c2-b763-5c504bfcb2a6"
   },
   "outputs": [],
   "source": [
    "d5.columns = d5.columns.droplevel(level = 0)\n",
    "d5"
   ]
  },
  {
   "cell_type": "markdown",
   "metadata": {
    "id": "LjgbvjLx0X3x"
   },
   "source": [
    "## Transposing\n",
    "You can swap columns and indices using the `T` attribute:"
   ]
  },
  {
   "cell_type": "code",
   "execution_count": null,
   "metadata": {
    "id": "M6LeOzOx0X3x",
    "outputId": "862bab0b-2d5a-4cda-a1d6-c5a0a2583535"
   },
   "outputs": [],
   "source": [
    "d6 = d5.T\n",
    "d6"
   ]
  },
  {
   "cell_type": "markdown",
   "metadata": {
    "id": "gJr89-uE0X3x"
   },
   "source": [
    "## Stacking and unstacking levels\n",
    "Calling the `stack()` method will push the lowest column level after the lowest index:"
   ]
  },
  {
   "cell_type": "code",
   "execution_count": null,
   "metadata": {
    "id": "EKjBG7K20X3x",
    "outputId": "6a387dc7-5b76-4e95-ae72-bd210528e57d"
   },
   "outputs": [],
   "source": [
    "d7 = d6.stack()\n",
    "d7"
   ]
  },
  {
   "cell_type": "markdown",
   "metadata": {
    "id": "0yeM4QNN0X3y"
   },
   "source": [
    "Note that many `NaN` values appeared. This makes sense because many new combinations did not exist before (eg. there was no `bob` in `London`).\n",
    "\n",
    "Calling `unstack()` will do the reverse, once again creating many `NaN` values."
   ]
  },
  {
   "cell_type": "code",
   "execution_count": null,
   "metadata": {
    "id": "qEOz-qg30X3y",
    "outputId": "81862033-69d5-4bc3-ad14-ef3b989877f2"
   },
   "outputs": [],
   "source": [
    "d8 = d7.unstack()\n",
    "d8"
   ]
  },
  {
   "cell_type": "markdown",
   "metadata": {
    "id": "CdzAI5Mj0X3y"
   },
   "source": [
    "If we call `unstack` again, we end up with a `Series` object:"
   ]
  },
  {
   "cell_type": "code",
   "execution_count": null,
   "metadata": {
    "id": "1uBOh1eD0X3y",
    "outputId": "06ef3142-8577-4a48-c60c-038f6b6aadfd"
   },
   "outputs": [],
   "source": [
    "d9 = d8.unstack()\n",
    "d9"
   ]
  },
  {
   "cell_type": "markdown",
   "metadata": {
    "id": "ujdzY3Jj0X3y"
   },
   "source": [
    "The `stack()` and `unstack()` methods let you select the `level` to stack/unstack. You can even stack/unstack multiple levels at once:"
   ]
  },
  {
   "cell_type": "code",
   "execution_count": null,
   "metadata": {
    "id": "N0SktKv-0X3y",
    "outputId": "2d9c7d49-dcb1-4d83-a729-144c63bd4026",
    "scrolled": true
   },
   "outputs": [],
   "source": [
    "d10 = d9.unstack(level = (0,1))\n",
    "d10"
   ]
  },
  {
   "cell_type": "markdown",
   "metadata": {
    "id": "cFyiPygD0X3y"
   },
   "source": [
    "## Most methods return modified copies\n",
    "As you may have noticed, the `stack()` and `unstack()` methods do not modify the object they apply to. Instead, they work on a copy and return that copy. This is true of most methods in pandas."
   ]
  },
  {
   "cell_type": "markdown",
   "metadata": {
    "id": "b7F-Q7xV0X3z"
   },
   "source": [
    "## Accessing rows\n",
    "Let's go back to the `people` `DataFrame`:"
   ]
  },
  {
   "cell_type": "code",
   "execution_count": null,
   "metadata": {
    "id": "XA2pXybZ0X3z",
    "outputId": "8c60ca61-161d-416c-9a41-7951fde4cfa0"
   },
   "outputs": [],
   "source": [
    "people"
   ]
  },
  {
   "cell_type": "markdown",
   "metadata": {
    "id": "h9ShRYVr0X3z"
   },
   "source": [
    "The `loc` attribute lets you access rows instead of columns. The result is a `Series` object in which the `DataFrame`'s column names are mapped to row index labels:"
   ]
  },
  {
   "cell_type": "code",
   "execution_count": null,
   "metadata": {
    "id": "AxFBO3T50X3z",
    "outputId": "1630104a-f049-4fd4-d316-d6892cb7c345"
   },
   "outputs": [],
   "source": [
    "people.loc[\"charles\"]"
   ]
  },
  {
   "cell_type": "markdown",
   "metadata": {
    "id": "5IRtkQOA0X3z"
   },
   "source": [
    "You can also access rows by integer location using the `iloc` attribute:"
   ]
  },
  {
   "cell_type": "code",
   "execution_count": null,
   "metadata": {
    "id": "03T7eRtC0X3z",
    "outputId": "542ecb78-957c-415b-a1f5-adb6164ea9dc"
   },
   "outputs": [],
   "source": [
    "people.iloc[2]"
   ]
  },
  {
   "cell_type": "markdown",
   "metadata": {
    "id": "Hckym9D60X3z"
   },
   "source": [
    "You can also get a slice of rows, and this returns a `DataFrame` object:"
   ]
  },
  {
   "cell_type": "code",
   "execution_count": null,
   "metadata": {
    "id": "Osu1valT0X3z",
    "outputId": "56cfbfdb-453c-4b62-9a57-bb6322080d95"
   },
   "outputs": [],
   "source": [
    "people.iloc[1:3]"
   ]
  },
  {
   "cell_type": "markdown",
   "metadata": {
    "id": "YosMOHvu0X3z"
   },
   "source": [
    "Finally, you can pass a boolean array to get the matching rows:"
   ]
  },
  {
   "cell_type": "code",
   "execution_count": null,
   "metadata": {
    "id": "4RwBthKn0X30",
    "outputId": "bf722c63-d797-456e-c29a-ad98bcfaeea0"
   },
   "outputs": [],
   "source": [
    "people[np.array([True, False, True])]"
   ]
  },
  {
   "cell_type": "markdown",
   "metadata": {
    "id": "2xJgV-bN0X30"
   },
   "source": [
    "This is most useful when combined with boolean expressions:"
   ]
  },
  {
   "cell_type": "code",
   "execution_count": null,
   "metadata": {
    "id": "UMoZsmh30X30",
    "outputId": "227a2208-64ae-4899-d83e-a32814da3cdb"
   },
   "outputs": [],
   "source": [
    "people[people[\"birthyear\"] < 1990]"
   ]
  },
  {
   "cell_type": "markdown",
   "metadata": {
    "id": "sNXTGUku0X30"
   },
   "source": [
    "## Adding and removing columns\n",
    "You can generally treat `DataFrame` objects like dictionaries of `Series`, so the following work fine:"
   ]
  },
  {
   "cell_type": "code",
   "execution_count": null,
   "metadata": {
    "id": "EexMIK3N0X30",
    "outputId": "e2eb752b-f411-460d-f169-93088110efe1"
   },
   "outputs": [],
   "source": [
    "people"
   ]
  },
  {
   "cell_type": "code",
   "execution_count": null,
   "metadata": {
    "id": "k4Y08A8u0X30",
    "outputId": "88b1ee39-fdc3-4a10-df99-a71a61d9f0a2"
   },
   "outputs": [],
   "source": [
    "people[\"age\"] = 2018 - people[\"birthyear\"]  # adds a new column \"age\"\n",
    "people[\"over 30\"] = people[\"age\"] > 30      # adds another column \"over 30\"\n",
    "birthyears = people.pop(\"birthyear\")\n",
    "del people[\"children\"]\n",
    "\n",
    "people"
   ]
  },
  {
   "cell_type": "code",
   "execution_count": null,
   "metadata": {
    "id": "PEp4_HZk0X30",
    "outputId": "01388469-55c4-4b98-c222-d7d15b732bca"
   },
   "outputs": [],
   "source": [
    "birthyears"
   ]
  },
  {
   "cell_type": "markdown",
   "metadata": {
    "id": "69d6ApL20X30"
   },
   "source": [
    "When you add a new colum, it must have the same number of rows. Missing rows are filled with NaN, and extra rows are ignored:"
   ]
  },
  {
   "cell_type": "code",
   "execution_count": null,
   "metadata": {
    "id": "Aky7mwdU0X30",
    "outputId": "68d166e1-3014-4dff-e361-dba5c1d2098d"
   },
   "outputs": [],
   "source": [
    "people[\"pets\"] = pd.Series({\"bob\": 0, \"charles\": 5, \"eugene\":1})  # alice is missing, eugene is ignored\n",
    "people"
   ]
  },
  {
   "cell_type": "markdown",
   "metadata": {
    "id": "cmbFsf-C0X31"
   },
   "source": [
    "When adding a new column, it is added at the end (on the right) by default. You can also insert a column anywhere else using the `insert()` method:"
   ]
  },
  {
   "cell_type": "code",
   "execution_count": null,
   "metadata": {
    "id": "DtP-yFWm0X31",
    "outputId": "58b0fd8c-79dd-482e-c7d5-9b59ad746677"
   },
   "outputs": [],
   "source": [
    "people.insert(1, \"height\", [172, 181, 185])\n",
    "people"
   ]
  },
  {
   "cell_type": "markdown",
   "metadata": {
    "id": "LhrDE1xQ0X31"
   },
   "source": [
    "## Assigning new columns\n",
    "You can also create new columns by calling the `assign()` method. Note that this returns a new `DataFrame` object, the original is not modified:"
   ]
  },
  {
   "cell_type": "code",
   "execution_count": null,
   "metadata": {
    "id": "tVMXLHsv0X31",
    "outputId": "a9756b76-3921-44b5-fff2-069b8f498b43"
   },
   "outputs": [],
   "source": [
    "people.assign(\n",
    "    body_mass_index = people[\"weight\"] / (people[\"height\"] / 100) ** 2,\n",
    "    has_pets = people[\"pets\"] > 0\n",
    ")"
   ]
  },
  {
   "cell_type": "markdown",
   "metadata": {
    "id": "Tx9Ezdt80X31"
   },
   "source": [
    "Note that you cannot access columns created within the same assignment:"
   ]
  },
  {
   "cell_type": "code",
   "execution_count": null,
   "metadata": {
    "id": "aQ_t58ht0X31",
    "outputId": "013c00f6-50d1-41c5-a8fd-73209f8d6cd2"
   },
   "outputs": [],
   "source": [
    "try:\n",
    "    people.assign(\n",
    "        body_mass_index = people[\"weight\"] / (people[\"height\"] / 100) ** 2,\n",
    "        overweight = people[\"body_mass_index\"] > 25\n",
    "    )\n",
    "except KeyError as e:\n",
    "    print(\"Key error:\", e)"
   ]
  },
  {
   "cell_type": "markdown",
   "metadata": {
    "id": "6WATwAVj0X31"
   },
   "source": [
    "The solution is to split this assignment in two consecutive assignments:"
   ]
  },
  {
   "cell_type": "code",
   "execution_count": null,
   "metadata": {
    "id": "zUl3B6RL0X31",
    "outputId": "4441b0f4-1fb0-435e-d841-e977d81567c0"
   },
   "outputs": [],
   "source": [
    "d6 = people.assign(body_mass_index = people[\"weight\"] / (people[\"height\"] / 100) ** 2)\n",
    "d6.assign(overweight = d6[\"body_mass_index\"] > 25)"
   ]
  },
  {
   "cell_type": "markdown",
   "metadata": {
    "id": "hzFip9KQ0X32"
   },
   "source": [
    "Having to create a temporary variable `d6` is not very convenient. You may want to just chain the assigment calls, but it does not work because the `people` object is not actually modified by the first assignment:"
   ]
  },
  {
   "cell_type": "code",
   "execution_count": null,
   "metadata": {
    "id": "BuNkYDY50X32",
    "outputId": "c4809c52-f850-457b-a51a-70af476b94a6"
   },
   "outputs": [],
   "source": [
    "try:\n",
    "    (people\n",
    "         .assign(body_mass_index = people[\"weight\"] / (people[\"height\"] / 100) ** 2)\n",
    "         .assign(overweight = people[\"body_mass_index\"] > 25)\n",
    "    )\n",
    "except KeyError as e:\n",
    "    print(\"Key error:\", e)"
   ]
  },
  {
   "cell_type": "markdown",
   "metadata": {
    "id": "KvTQ7YVP0X32"
   },
   "source": [
    "But fear not, there is a simple solution. You can pass a function to the `assign()` method (typically a `lambda` function), and this function will be called with the `DataFrame` as a parameter:"
   ]
  },
  {
   "cell_type": "code",
   "execution_count": null,
   "metadata": {
    "id": "go_C6nVD0X32",
    "outputId": "de1f3529-d505-41e1-8a9b-52dcc5e08386"
   },
   "outputs": [],
   "source": [
    "(people\n",
    "     .assign(body_mass_index = lambda df: df[\"weight\"] / (df[\"height\"] / 100) ** 2)\n",
    "     .assign(overweight = lambda df: df[\"body_mass_index\"] > 25)\n",
    ")"
   ]
  },
  {
   "cell_type": "markdown",
   "metadata": {
    "id": "MDmPBr3z0X32"
   },
   "source": [
    "Problem solved!"
   ]
  },
  {
   "cell_type": "markdown",
   "metadata": {
    "id": "FmEuaIrU0X32"
   },
   "source": [
    "## Evaluating an expression\n",
    "A great feature supported by pandas is expression evaluation. This relies on the `numexpr` library which must be installed."
   ]
  },
  {
   "cell_type": "code",
   "execution_count": null,
   "metadata": {
    "id": "9teIgTP80X32",
    "outputId": "ec20859e-85c8-476f-de08-b3d600f8f2d4"
   },
   "outputs": [],
   "source": [
    "people.eval(\"weight / (height/100) ** 2 > 25\")"
   ]
  },
  {
   "cell_type": "markdown",
   "metadata": {
    "id": "3AwVMJO70X32"
   },
   "source": [
    "Assignment expressions are also supported. Let's set `inplace=True` to directly modify the `DataFrame` rather than getting a modified copy:"
   ]
  },
  {
   "cell_type": "code",
   "execution_count": null,
   "metadata": {
    "id": "AiR8BQ9_0X32",
    "outputId": "b90895e6-2fe4-4d73-c018-49ad85775e45"
   },
   "outputs": [],
   "source": [
    "people.eval(\"body_mass_index = weight / (height/100) ** 2\", inplace=True)\n",
    "people"
   ]
  },
  {
   "cell_type": "markdown",
   "metadata": {
    "id": "a2tCDFPz0X33"
   },
   "source": [
    "You can use a local or global variable in an expression by prefixing it with `'@'`:"
   ]
  },
  {
   "cell_type": "code",
   "execution_count": null,
   "metadata": {
    "id": "WESItAZc0X33",
    "outputId": "f8171759-1da2-4989-850a-fbb1bd4bd7c4"
   },
   "outputs": [],
   "source": [
    "overweight_threshold = 30\n",
    "people.eval(\"overweight = body_mass_index > @overweight_threshold\", inplace=True)\n",
    "people"
   ]
  },
  {
   "cell_type": "markdown",
   "metadata": {
    "id": "xK4hwMHh0X33"
   },
   "source": [
    "## Querying a `DataFrame`\n",
    "The `query()` method lets you filter a `DataFrame` based on a query expression:"
   ]
  },
  {
   "cell_type": "code",
   "execution_count": null,
   "metadata": {
    "id": "7V94caDI0X33",
    "outputId": "db42535d-0d3d-4655-e32d-c58ac2b374b1"
   },
   "outputs": [],
   "source": [
    "people.query(\"age > 30 and pets == 0\")"
   ]
  },
  {
   "cell_type": "markdown",
   "metadata": {
    "id": "SxBQIXzS0X33"
   },
   "source": [
    "## Sorting a `DataFrame`\n",
    "You can sort a `DataFrame` by calling its `sort_index` method. By default it sorts the rows by their index label, in ascending order, but let's reverse the order:"
   ]
  },
  {
   "cell_type": "code",
   "execution_count": null,
   "metadata": {
    "id": "4DiBmhqf0X33",
    "outputId": "14f9b175-39e5-4e7b-809a-56a6ef667470"
   },
   "outputs": [],
   "source": [
    "people.sort_index(ascending=False)"
   ]
  },
  {
   "cell_type": "markdown",
   "metadata": {
    "id": "QEEDYISn0X33"
   },
   "source": [
    "Note that `sort_index` returned a sorted *copy* of the `DataFrame`. To modify `people` directly, we can set the `inplace` argument to `True`. Also, we can sort the columns instead of the rows by setting `axis=1`:"
   ]
  },
  {
   "cell_type": "code",
   "execution_count": null,
   "metadata": {
    "id": "kJ7SKddx0X33",
    "outputId": "c888b5f1-d434-4e43-a7fd-1793a55bda00"
   },
   "outputs": [],
   "source": [
    "people.sort_index(axis=1, inplace=True)\n",
    "people"
   ]
  },
  {
   "cell_type": "markdown",
   "metadata": {
    "id": "ERO3RLCM0X33"
   },
   "source": [
    "To sort the `DataFrame` by the values instead of the labels, we can use `sort_values` and specify the column to sort by:"
   ]
  },
  {
   "cell_type": "code",
   "execution_count": null,
   "metadata": {
    "id": "7dTWZKeq0X33",
    "outputId": "ecef321b-3368-4206-9660-5ac5852c2212"
   },
   "outputs": [],
   "source": [
    "people.sort_values(by=\"age\", inplace=True)\n",
    "people"
   ]
  },
  {
   "cell_type": "markdown",
   "metadata": {
    "id": "9rFhWqkR0X34"
   },
   "source": [
    "## Plotting a `DataFrame`\n",
    "Just like for `Series`, pandas makes it easy to draw nice graphs based on a `DataFrame`.\n",
    "\n",
    "For example, it is trivial to create a line plot from a `DataFrame`'s data by calling its `plot` method:"
   ]
  },
  {
   "cell_type": "code",
   "execution_count": null,
   "metadata": {
    "id": "HgAfud8z0X34",
    "outputId": "6d31a239-855c-43fc-9e70-f45885da704f"
   },
   "outputs": [],
   "source": [
    "people.plot(kind = \"line\", x = \"body_mass_index\", y = [\"height\", \"weight\"])\n",
    "plt.show()"
   ]
  },
  {
   "cell_type": "markdown",
   "metadata": {
    "id": "n3m2ov6k0X34"
   },
   "source": [
    "You can pass extra arguments supported by matplotlib's functions. For example, we can create scatterplot and pass it a list of sizes using the `s` argument of matplotlib's `scatter()` function:"
   ]
  },
  {
   "cell_type": "code",
   "execution_count": null,
   "metadata": {
    "id": "Tj1b8shK0X34",
    "outputId": "976dc232-734c-4a40-d5a9-e4abee081126",
    "scrolled": true
   },
   "outputs": [],
   "source": [
    "people.plot(kind = \"scatter\", x = \"height\", y = \"weight\", s=[40, 120, 200])\n",
    "plt.show()"
   ]
  },
  {
   "cell_type": "markdown",
   "metadata": {
    "id": "_tG1gvkq0X34"
   },
   "source": [
    "Again, there are way too many options to list here: the best option is to scroll through the [Visualization](http://pandas.pydata.org/pandas-docs/stable/visualization.html) page in pandas' documentation, find the plot you are interested in and look at the example code."
   ]
  },
  {
   "cell_type": "markdown",
   "metadata": {
    "id": "0x4m0hPE0X34"
   },
   "source": [
    "## Operations on `DataFrame`s\n",
    "Although `DataFrame`s do not try to mimick NumPy arrays, there are a few similarities. Let's create a `DataFrame` to demonstrate this:"
   ]
  },
  {
   "cell_type": "code",
   "execution_count": null,
   "metadata": {
    "id": "aR49Ijr-0X34",
    "outputId": "7dc1a9c0-44d3-4c14-a48d-cb9d1cffba12"
   },
   "outputs": [],
   "source": [
    "grades_array = np.array([[8,8,9],[10,9,9],[4, 8, 2], [9, 10, 10]])\n",
    "grades = pd.DataFrame(grades_array, columns=[\"sep\", \"oct\", \"nov\"], index=[\"alice\",\"bob\",\"charles\",\"darwin\"])\n",
    "grades"
   ]
  },
  {
   "cell_type": "markdown",
   "metadata": {
    "id": "5LXtK_KZ0X34"
   },
   "source": [
    "You can apply NumPy mathematical functions on a `DataFrame`: the function is applied to all values:"
   ]
  },
  {
   "cell_type": "code",
   "execution_count": null,
   "metadata": {
    "id": "-doXMK_l0X34",
    "outputId": "1b7d6a28-94b2-4c63-aeb2-fb077c388430"
   },
   "outputs": [],
   "source": [
    "np.sqrt(grades)"
   ]
  },
  {
   "cell_type": "markdown",
   "metadata": {
    "id": "C8MTYBBk0X34"
   },
   "source": [
    "Similarly, adding a single value to a `DataFrame` will add that value to all elements in the `DataFrame`. This is called *broadcasting*:"
   ]
  },
  {
   "cell_type": "code",
   "execution_count": null,
   "metadata": {
    "id": "3xl0W03E0X35",
    "outputId": "47d24f44-3af4-4ef7-f047-d143dc6a0139"
   },
   "outputs": [],
   "source": [
    "grades + 1"
   ]
  },
  {
   "cell_type": "markdown",
   "metadata": {
    "id": "Rncb3l3P0X35"
   },
   "source": [
    "Of course, the same is true for all other binary operations, including arithmetic (`*`,`/`,`**`...) and conditional (`>`, `==`...) operations:"
   ]
  },
  {
   "cell_type": "code",
   "execution_count": null,
   "metadata": {
    "id": "7lMIqlvV0X35",
    "outputId": "d33a4903-acb8-4629-f96a-130c9f82e8b9"
   },
   "outputs": [],
   "source": [
    "grades >= 5"
   ]
  },
  {
   "cell_type": "markdown",
   "metadata": {
    "id": "VhfU1x3Z0X35"
   },
   "source": [
    "Aggregation operations, such as computing the `max`, the `sum` or the `mean` of a `DataFrame`, apply to each column, and you get back a `Series` object:"
   ]
  },
  {
   "cell_type": "code",
   "execution_count": null,
   "metadata": {
    "id": "4o6BtqZm0X35",
    "outputId": "49e2185e-02ba-4bba-ed85-881cfb14eebe"
   },
   "outputs": [],
   "source": [
    "grades.mean()"
   ]
  },
  {
   "cell_type": "markdown",
   "metadata": {
    "id": "DPzBQwXj0X35"
   },
   "source": [
    "The `all` method is also an aggregation operation: it checks whether all values are `True` or not. Let's see during which months all students got a grade greater than `5`:"
   ]
  },
  {
   "cell_type": "code",
   "execution_count": null,
   "metadata": {
    "id": "uKlgeEw90X35",
    "outputId": "ad988aad-b9d2-4b86-fc74-2d53a834a43f"
   },
   "outputs": [],
   "source": [
    "(grades > 5).all()"
   ]
  },
  {
   "cell_type": "markdown",
   "metadata": {
    "id": "DXX_-V3J0X35"
   },
   "source": [
    "Most of these functions take an optional `axis` parameter which lets you specify along which axis of the `DataFrame` you want the operation executed. The default is `axis=0`, meaning that the operation is executed vertically (on each column). You can set `axis=1` to execute the operation horizontally (on each row). For example, let's find out which students had all grades greater than `5`:"
   ]
  },
  {
   "cell_type": "code",
   "execution_count": null,
   "metadata": {
    "id": "EknoXcDQ0X35",
    "outputId": "a6f0dce4-d8ed-4a87-b8d7-7bcd462e5ca6"
   },
   "outputs": [],
   "source": [
    "(grades > 5).all(axis = 1)"
   ]
  },
  {
   "cell_type": "markdown",
   "metadata": {
    "id": "B1ie1ijP0X35"
   },
   "source": [
    "The `any` method returns `True` if any value is True. Let's see who got at least one grade 10:"
   ]
  },
  {
   "cell_type": "code",
   "execution_count": null,
   "metadata": {
    "id": "DoeMGrN70X36",
    "outputId": "921010fa-e29c-44f0-c10e-8af48fd9c314"
   },
   "outputs": [],
   "source": [
    "(grades == 10).any(axis = 1)"
   ]
  },
  {
   "cell_type": "markdown",
   "metadata": {
    "id": "TNshzQTM0X36"
   },
   "source": [
    "If you add a `Series` object to a `DataFrame` (or execute any other binary operation), pandas attempts to broadcast the operation to all *rows* in the `DataFrame`. This only works if the `Series` has the same size as the `DataFrame`s rows. For example, let's subtract the `mean` of the `DataFrame` (a `Series` object) from the `DataFrame`:"
   ]
  },
  {
   "cell_type": "code",
   "execution_count": null,
   "metadata": {
    "id": "B-9YR_Zo0X36",
    "outputId": "a14a9955-5263-4c7b-8631-954b62f32cba"
   },
   "outputs": [],
   "source": [
    "grades - grades.mean()  # equivalent to: grades - [7.75, 8.75, 7.50]"
   ]
  },
  {
   "cell_type": "markdown",
   "metadata": {
    "id": "uQhFA-zz0X36"
   },
   "source": [
    "We subtracted `7.75` from all September grades, `8.75` from October grades and `7.50` from November grades. It is equivalent to subtracting this `DataFrame`:"
   ]
  },
  {
   "cell_type": "code",
   "execution_count": null,
   "metadata": {
    "id": "5pAvSA1F0X36",
    "outputId": "49edab74-6dfd-4534-f765-69e0ec7bdaa4"
   },
   "outputs": [],
   "source": [
    "pd.DataFrame([[7.75, 8.75, 7.50]]*4, index=grades.index, columns=grades.columns)"
   ]
  },
  {
   "cell_type": "markdown",
   "metadata": {
    "id": "o26-NhEE0X36"
   },
   "source": [
    "If you want to subtract the global mean from every grade, here is one way to do it:"
   ]
  },
  {
   "cell_type": "code",
   "execution_count": null,
   "metadata": {
    "id": "ELwV8e9G0X36",
    "outputId": "c7e5415c-9c1c-49ff-fb01-dbc840a6aa8c",
    "scrolled": true
   },
   "outputs": [],
   "source": [
    "grades - grades.values.mean() # subtracts the global mean (8.00) from all grades"
   ]
  },
  {
   "cell_type": "markdown",
   "metadata": {
    "id": "T_WOQZdE0X36"
   },
   "source": [
    "## Automatic alignment\n",
    "Similar to `Series`, when operating on multiple `DataFrame`s, pandas automatically aligns them by row index label, but also by column names. Let's create a `DataFrame` with bonus points for each person from October to December:"
   ]
  },
  {
   "cell_type": "code",
   "execution_count": null,
   "metadata": {
    "id": "EmUbERwq0X36",
    "outputId": "7b004a6d-5ea3-4cc8-c715-340797b0e254"
   },
   "outputs": [],
   "source": [
    "bonus_array = np.array([[0,np.nan,2],[np.nan,1,0],[0, 1, 0], [3, 3, 0]])\n",
    "bonus_points = pd.DataFrame(bonus_array, columns=[\"oct\", \"nov\", \"dec\"], index=[\"bob\",\"colin\", \"darwin\", \"charles\"])\n",
    "bonus_points"
   ]
  },
  {
   "cell_type": "code",
   "execution_count": null,
   "metadata": {
    "id": "Dmb8j8qf0X37",
    "outputId": "ece9b49a-a22f-4d30-859a-20c621d3bf83",
    "scrolled": true
   },
   "outputs": [],
   "source": [
    "grades + bonus_points"
   ]
  },
  {
   "cell_type": "markdown",
   "metadata": {
    "id": "j8Z0X67L0X37"
   },
   "source": [
    "Looks like the addition worked in some cases but way too many elements are now empty. That's because when aligning the `DataFrame`s, some columns and rows were only present on one side, and thus they were considered missing on the other side (`NaN`). Then adding `NaN` to a number results in `NaN`, hence the result.\n",
    "\n",
    "## Handling missing data\n",
    "Dealing with missing data is a frequent task when working with real life data. Pandas offers a few tools to handle missing data.\n",
    " \n",
    "Let's try to fix the problem above. For example, we can decide that missing data should result in a zero, instead of `NaN`. We can replace all `NaN` values by a any value using the `fillna()` method:"
   ]
  },
  {
   "cell_type": "code",
   "execution_count": null,
   "metadata": {
    "id": "Ace8tI0o0X37",
    "outputId": "e82fd337-4058-483e-93d0-261688f76b81",
    "scrolled": true
   },
   "outputs": [],
   "source": [
    "(grades + bonus_points).fillna(0)"
   ]
  },
  {
   "cell_type": "markdown",
   "metadata": {
    "id": "SRKWyiy50X37"
   },
   "source": [
    "It's a bit unfair that we're setting grades to zero in September, though. Perhaps we should decide that missing grades are missing grades, but missing bonus points should be replaced by zeros:"
   ]
  },
  {
   "cell_type": "code",
   "execution_count": null,
   "metadata": {
    "id": "bnWOOBdc0X37",
    "outputId": "0982b0d1-20bf-48e3-8904-5093569b65dc"
   },
   "outputs": [],
   "source": [
    "fixed_bonus_points = bonus_points.fillna(0)\n",
    "fixed_bonus_points.insert(0, \"sep\", 0)\n",
    "fixed_bonus_points.loc[\"alice\"] = 0\n",
    "grades + fixed_bonus_points"
   ]
  },
  {
   "cell_type": "markdown",
   "metadata": {
    "id": "4uLufBIZ0X37"
   },
   "source": [
    "That's much better: although we made up some data, we have not been too unfair.\n",
    "\n",
    "Another way to handle missing data is to interpolate. Let's look at the `bonus_points` `DataFrame` again:"
   ]
  },
  {
   "cell_type": "code",
   "execution_count": null,
   "metadata": {
    "id": "_WDlqcDu0X37",
    "outputId": "cfdcd1b2-d277-4689-b97a-165a425dea23"
   },
   "outputs": [],
   "source": [
    "bonus_points"
   ]
  },
  {
   "cell_type": "markdown",
   "metadata": {
    "id": "x_0FdN9T0X37"
   },
   "source": [
    "Now let's call the `interpolate` method. By default, it interpolates vertically (`axis=0`), so let's tell it to interpolate horizontally (`axis=1`)."
   ]
  },
  {
   "cell_type": "code",
   "execution_count": null,
   "metadata": {
    "id": "OhiqLxxQ0X37",
    "outputId": "462dbe8f-b652-407e-9836-5d12df87c9fb"
   },
   "outputs": [],
   "source": [
    "bonus_points.interpolate(axis=1)"
   ]
  },
  {
   "cell_type": "markdown",
   "metadata": {
    "id": "CI8wocsq0X38"
   },
   "source": [
    "Bob had 0 bonus points in October, and 2 in December. When we interpolate for November, we get the mean: 1 bonus point. Colin had 1 bonus point in November, but we do not know how many bonus points he had in September, so we cannot interpolate, this is why there is still a missing value in October after interpolation. To fix this, we can set the September bonus points to 0 before interpolation."
   ]
  },
  {
   "cell_type": "code",
   "execution_count": null,
   "metadata": {
    "id": "k4Bt29WZ0X38",
    "outputId": "9e8573d5-bbcb-4ad2-c848-0eb8e6ae7aac"
   },
   "outputs": [],
   "source": [
    "better_bonus_points = bonus_points.copy()\n",
    "better_bonus_points.insert(0, \"sep\", 0)\n",
    "better_bonus_points.loc[\"alice\"] = 0\n",
    "better_bonus_points = better_bonus_points.interpolate(axis=1)\n",
    "better_bonus_points"
   ]
  },
  {
   "cell_type": "markdown",
   "metadata": {
    "id": "JxXoj7U-0X38"
   },
   "source": [
    "Great, now we have reasonable bonus points everywhere. Let's find out the final grades:"
   ]
  },
  {
   "cell_type": "code",
   "execution_count": null,
   "metadata": {
    "id": "t74Ouv9U0X38",
    "outputId": "c2fd4856-f5de-4219-84e1-84e1200d5d43"
   },
   "outputs": [],
   "source": [
    "grades + better_bonus_points"
   ]
  },
  {
   "cell_type": "markdown",
   "metadata": {
    "id": "OfTmJaMP0X38"
   },
   "source": [
    "It is slightly annoying that the September column ends up on the right. This is because the `DataFrame`s we are adding do not have the exact same columns (the `grades` `DataFrame` is missing the `\"dec\"` column), so to make things predictable, pandas orders the final columns alphabetically. To fix this, we can simply add the missing column before adding:"
   ]
  },
  {
   "cell_type": "code",
   "execution_count": null,
   "metadata": {
    "id": "VMo4GvSs0X38",
    "outputId": "3f7b80fe-45b4-43d4-fea7-43590d2e6d4c",
    "scrolled": true
   },
   "outputs": [],
   "source": [
    "grades[\"dec\"] = np.nan\n",
    "final_grades = grades + better_bonus_points\n",
    "final_grades"
   ]
  },
  {
   "cell_type": "markdown",
   "metadata": {
    "id": "3Jz-XwIb0X38"
   },
   "source": [
    "There's not much we can do about December and Colin: it's bad enough that we are making up bonus points, but we can't reasonably make up grades (well I guess some teachers probably do). So let's call the `dropna()` method to get rid of rows that are full of `NaN`s:"
   ]
  },
  {
   "cell_type": "code",
   "execution_count": null,
   "metadata": {
    "id": "kBmRdP_O0X38",
    "outputId": "08cce4c2-1c35-4e00-8eb2-b9388368212d"
   },
   "outputs": [],
   "source": [
    "final_grades_clean = final_grades.dropna(how=\"all\")\n",
    "final_grades_clean"
   ]
  },
  {
   "cell_type": "markdown",
   "metadata": {
    "id": "ikXy4ydJ0X38"
   },
   "source": [
    "Now let's remove columns that are full of `NaN`s by setting the `axis` argument to `1`:"
   ]
  },
  {
   "cell_type": "code",
   "execution_count": null,
   "metadata": {
    "id": "TmlP0MuP0X38",
    "outputId": "316b6d1b-fa8d-4c4c-c27f-0a27d8c4ea04"
   },
   "outputs": [],
   "source": [
    "final_grades_clean = final_grades_clean.dropna(axis=1, how=\"all\")\n",
    "final_grades_clean"
   ]
  },
  {
   "cell_type": "markdown",
   "metadata": {
    "id": "LSO6VaF90X39"
   },
   "source": [
    "## Aggregating with `groupby`\n",
    "Similar to the SQL language, pandas allows grouping your data into groups to run calculations over each group.\n",
    "\n",
    "First, let's add some extra data about each person so we can group them, and let's go back to the `final_grades` `DataFrame` so we can see how `NaN` values are handled:"
   ]
  },
  {
   "cell_type": "code",
   "execution_count": null,
   "metadata": {
    "id": "DdlcaUOc0X39",
    "outputId": "c1ef732a-2835-4fd3-c317-33fcbe0a9cb4",
    "scrolled": true
   },
   "outputs": [],
   "source": [
    "final_grades[\"hobby\"] = [\"Biking\", \"Dancing\", np.nan, \"Dancing\", \"Biking\"]\n",
    "final_grades"
   ]
  },
  {
   "cell_type": "markdown",
   "metadata": {
    "id": "jGBGJNDt0X39"
   },
   "source": [
    "Now let's group data in this `DataFrame` by hobby:"
   ]
  },
  {
   "cell_type": "code",
   "execution_count": null,
   "metadata": {
    "id": "xRlgXuGB0X39",
    "outputId": "7d7bde70-35cb-4223-f1fa-bb857b1edcdc"
   },
   "outputs": [],
   "source": [
    "grouped_grades = final_grades.groupby(\"hobby\")\n",
    "grouped_grades"
   ]
  },
  {
   "cell_type": "markdown",
   "metadata": {
    "id": "KZhrMw2k0X39"
   },
   "source": [
    "We are ready to compute the average grade per hobby:"
   ]
  },
  {
   "cell_type": "code",
   "execution_count": null,
   "metadata": {
    "id": "fIXAbGax0X39",
    "outputId": "bb005a5a-2a91-4799-fe81-f97998c46de2"
   },
   "outputs": [],
   "source": [
    "grouped_grades.mean()"
   ]
  },
  {
   "cell_type": "markdown",
   "metadata": {
    "id": "M54JKRX00X39"
   },
   "source": [
    "That was easy! Note that the `NaN` values have simply been skipped when computing the means."
   ]
  },
  {
   "cell_type": "markdown",
   "metadata": {
    "id": "TVUKg3Tt0X39"
   },
   "source": [
    "## Pivot tables\n",
    "Pandas supports spreadsheet-like [pivot tables](https://en.wikipedia.org/wiki/Pivot_table) that allow quick data summarization. To illustrate this, let's create a simple `DataFrame`:"
   ]
  },
  {
   "cell_type": "code",
   "execution_count": null,
   "metadata": {
    "id": "MGRAxLUZ0X39",
    "outputId": "e4ecb2f2-f525-4df8-e352-5ead4583fbca"
   },
   "outputs": [],
   "source": [
    "bonus_points"
   ]
  },
  {
   "cell_type": "code",
   "execution_count": null,
   "metadata": {
    "id": "qJjzzHd30X3-",
    "outputId": "e2b28d21-3160-4cca-93d5-18c3e6509521"
   },
   "outputs": [],
   "source": [
    "more_grades = final_grades_clean.stack().reset_index()\n",
    "more_grades.columns = [\"name\", \"month\", \"grade\"]\n",
    "more_grades[\"bonus\"] = [np.nan, np.nan, np.nan, 0, np.nan, 2, 3, 3, 0, 0, 1, 0]\n",
    "more_grades"
   ]
  },
  {
   "cell_type": "markdown",
   "metadata": {
    "id": "it1T7CXA0X3-"
   },
   "source": [
    "Now we can call the `pd.pivot_table()` function for this `DataFrame`, asking to group by the `name` column. By default, `pivot_table()` computes the mean of each numeric column:"
   ]
  },
  {
   "cell_type": "code",
   "execution_count": null,
   "metadata": {
    "id": "Ek1SoBF10X3-",
    "outputId": "88f269ff-7abe-41fc-d7ab-c74a22931234"
   },
   "outputs": [],
   "source": [
    "pd.pivot_table(more_grades, index=\"name\")"
   ]
  },
  {
   "cell_type": "markdown",
   "metadata": {
    "id": "dA0gM3bY0X3-"
   },
   "source": [
    "We can change the aggregation function by setting the `aggfunc` argument, and we can also specify the list of columns whose values will be aggregated:"
   ]
  },
  {
   "cell_type": "code",
   "execution_count": null,
   "metadata": {
    "id": "E2KiKdEO0X3-",
    "outputId": "b5c0b49f-dd5c-4919-c07e-9784831932c6"
   },
   "outputs": [],
   "source": [
    "pd.pivot_table(more_grades, index=\"name\", values=[\"grade\",\"bonus\"], aggfunc=np.max)"
   ]
  },
  {
   "cell_type": "markdown",
   "metadata": {
    "id": "UIVYkTSx0X3-"
   },
   "source": [
    "We can also specify the `columns` to aggregate over horizontally, and request the grand totals for each row and column by setting `margins=True`:"
   ]
  },
  {
   "cell_type": "code",
   "execution_count": null,
   "metadata": {
    "id": "4vY9bQFt0X3-",
    "outputId": "b50ee06e-0c7f-40d0-8d38-bc03116750b0"
   },
   "outputs": [],
   "source": [
    "pd.pivot_table(more_grades, index=\"name\", values=\"grade\", columns=\"month\", margins=True)"
   ]
  },
  {
   "cell_type": "markdown",
   "metadata": {
    "id": "TNOfJOSy0X3-"
   },
   "source": [
    "Finally, we can specify multiple index or column names, and pandas will create multi-level indices:"
   ]
  },
  {
   "cell_type": "code",
   "execution_count": null,
   "metadata": {
    "id": "CQUzuo4Z0X3-",
    "outputId": "988cfd46-5056-4636-db63-83231345ab56"
   },
   "outputs": [],
   "source": [
    "pd.pivot_table(more_grades, index=(\"name\", \"month\"), margins=True)"
   ]
  },
  {
   "cell_type": "markdown",
   "metadata": {
    "id": "eapDtHjZ0X3_"
   },
   "source": [
    "## Overview functions\n",
    "When dealing with large `DataFrames`, it is useful to get a quick overview of its content. Pandas offers a few functions for this. First, let's create a large `DataFrame` with a mix of numeric values, missing values and text values. Notice how Jupyter displays only the corners of the `DataFrame`:"
   ]
  },
  {
   "cell_type": "code",
   "execution_count": null,
   "metadata": {
    "id": "3aijahRX0X3_",
    "outputId": "43e4cfb9-b953-40ea-93fc-e09422840d2c"
   },
   "outputs": [],
   "source": [
    "much_data = np.fromfunction(lambda x,y: (x+y*y)%17*11, (10000, 26))\n",
    "large_df = pd.DataFrame(much_data, columns=list(\"ABCDEFGHIJKLMNOPQRSTUVWXYZ\"))\n",
    "large_df[large_df % 16 == 0] = np.nan\n",
    "large_df.insert(3,\"some_text\", \"Blabla\")\n",
    "large_df"
   ]
  },
  {
   "cell_type": "markdown",
   "metadata": {
    "id": "9eHawgt20X3_"
   },
   "source": [
    "The `head()` method returns the top 5 rows:"
   ]
  },
  {
   "cell_type": "code",
   "execution_count": null,
   "metadata": {
    "id": "KaVEEoXJ0X3_",
    "outputId": "096b730e-c208-4259-97bc-e6ef87abe34f"
   },
   "outputs": [],
   "source": [
    "large_df.head()"
   ]
  },
  {
   "cell_type": "markdown",
   "metadata": {
    "id": "RE-byD660X3_"
   },
   "source": [
    "Of course there's also a `tail()` function to view the bottom 5 rows. You can pass the number of rows you want:"
   ]
  },
  {
   "cell_type": "code",
   "execution_count": null,
   "metadata": {
    "id": "MqdpjuSJ0X3_",
    "outputId": "b13c93c5-e41c-4e43-d917-ed47cb63f69c"
   },
   "outputs": [],
   "source": [
    "large_df.tail(n=2)"
   ]
  },
  {
   "cell_type": "markdown",
   "metadata": {
    "id": "0cmiFpEG0X3_"
   },
   "source": [
    "The `info()` method prints out a summary of each columns contents:"
   ]
  },
  {
   "cell_type": "code",
   "execution_count": null,
   "metadata": {
    "id": "cEiVUsbi0X3_",
    "outputId": "de5522a3-c070-41be-fc52-5860b1fe8d9c"
   },
   "outputs": [],
   "source": [
    "large_df.info()"
   ]
  },
  {
   "cell_type": "markdown",
   "metadata": {
    "id": "upc5DJ-t0X3_"
   },
   "source": [
    "Finally, the `describe()` method gives a nice overview of the main aggregated values over each column:\n",
    "* `count`: number of non-null (not NaN) values\n",
    "* `mean`: mean of non-null values\n",
    "* `std`: [standard deviation](https://en.wikipedia.org/wiki/Standard_deviation) of non-null values\n",
    "* `min`: minimum of non-null values\n",
    "* `25%`, `50%`, `75%`: 25th, 50th and 75th [percentile](https://en.wikipedia.org/wiki/Percentile) of non-null values\n",
    "* `max`: maximum of non-null values"
   ]
  },
  {
   "cell_type": "code",
   "execution_count": null,
   "metadata": {
    "id": "WqvntUag0X4A",
    "outputId": "12e7fc3b-372d-4d09-9ab3-19752d0ced47"
   },
   "outputs": [],
   "source": [
    "large_df.describe()"
   ]
  },
  {
   "cell_type": "markdown",
   "metadata": {
    "id": "LWgR2T0L0X4A"
   },
   "source": [
    "# Saving & loading\n",
    "Pandas can save `DataFrame`s to various backends, including file formats such as CSV, Excel, JSON, HTML and HDF5, or to a SQL database. Let's create a `DataFrame` to demonstrate this:"
   ]
  },
  {
   "cell_type": "code",
   "execution_count": null,
   "metadata": {
    "id": "Yw7fmGeu0X4A",
    "outputId": "cb41f45b-ebf0-40e5-a5cd-160a746520eb"
   },
   "outputs": [],
   "source": [
    "my_df = pd.DataFrame(\n",
    "    [[\"Biking\", 68.5, 1985, np.nan], [\"Dancing\", 83.1, 1984, 3]], \n",
    "    columns=[\"hobby\",\"weight\",\"birthyear\",\"children\"],\n",
    "    index=[\"alice\", \"bob\"]\n",
    ")\n",
    "my_df"
   ]
  },
  {
   "cell_type": "markdown",
   "metadata": {
    "id": "kbf4xABP0X4A"
   },
   "source": [
    "## Saving\n",
    "Let's save it to CSV, HTML and JSON:"
   ]
  },
  {
   "cell_type": "code",
   "execution_count": null,
   "metadata": {
    "id": "3stm3fEI0X4A"
   },
   "outputs": [],
   "source": [
    "my_df.to_csv(\"my_df.csv\")\n",
    "my_df.to_html(\"my_df.html\")\n",
    "my_df.to_json(\"my_df.json\")"
   ]
  },
  {
   "cell_type": "markdown",
   "metadata": {
    "id": "NtuA6Igp0X4A"
   },
   "source": [
    "Done! Let's take a peek at what was saved:"
   ]
  },
  {
   "cell_type": "code",
   "execution_count": null,
   "metadata": {
    "id": "QI46M31M0X4A",
    "outputId": "a1d6fc24-563e-407b-e287-e21b645065d0"
   },
   "outputs": [],
   "source": [
    "for filename in (\"my_df.csv\", \"my_df.html\", \"my_df.json\"):\n",
    "    print(\"#\", filename)\n",
    "    with open(filename, \"rt\") as f:\n",
    "        print(f.read())\n",
    "        print()\n"
   ]
  },
  {
   "cell_type": "markdown",
   "metadata": {
    "id": "D049IPZN0X4A"
   },
   "source": [
    "Note that the index is saved as the first column (with no name) in a CSV file, as `<th>` tags in HTML and as keys in JSON.\n",
    "\n",
    "Saving to other formats works very similarly, but some formats require extra libraries to be installed. For example, saving to Excel requires the openpyxl library:"
   ]
  },
  {
   "cell_type": "code",
   "execution_count": null,
   "metadata": {
    "id": "UZcMjY6O0X4A",
    "outputId": "1d3d8761-d718-424e-d614-451203f61ac9"
   },
   "outputs": [],
   "source": [
    "try:\n",
    "    my_df.to_excel(\"my_df.xlsx\", sheet_name='People')\n",
    "except ImportError as e:\n",
    "    print(e)"
   ]
  },
  {
   "cell_type": "markdown",
   "metadata": {
    "id": "Gi6lZgIE0X4A"
   },
   "source": [
    "## Loading\n",
    "Now let's load our CSV file back into a `DataFrame`:"
   ]
  },
  {
   "cell_type": "code",
   "execution_count": null,
   "metadata": {
    "id": "MU3OxkdI0X4B",
    "outputId": "13abd208-bfc4-43a7-ac7b-48ddce470b3a"
   },
   "outputs": [],
   "source": [
    "my_df_loaded = pd.read_csv(\"my_df.csv\", index_col=0)\n",
    "my_df_loaded"
   ]
  },
  {
   "cell_type": "markdown",
   "metadata": {
    "id": "vy_QfbNP0X4B"
   },
   "source": [
    "As you might guess, there are similar `read_json`, `read_html`, `read_excel` functions as well.  We can also read data straight from the Internet. For example, let's load the top 1,000 U.S. cities from github:"
   ]
  },
  {
   "cell_type": "code",
   "execution_count": null,
   "metadata": {
    "id": "Ca-BqX8S0X4B",
    "outputId": "a3018a27-7eef-48e6-9835-8d24522a85c5"
   },
   "outputs": [],
   "source": [
    "us_cities = None\n",
    "try:\n",
    "    csv_url = \"https://raw.githubusercontent.com/plotly/datasets/master/us-cities-top-1k.csv\"\n",
    "    us_cities = pd.read_csv(csv_url, index_col=0)\n",
    "    us_cities = us_cities.head()\n",
    "except IOError as e:\n",
    "    print(e)\n",
    "us_cities"
   ]
  },
  {
   "cell_type": "markdown",
   "metadata": {
    "id": "kwzFIZK_0X4B"
   },
   "source": [
    "There are more options available, in particular regarding datetime format. Check out the [documentation](http://pandas.pydata.org/pandas-docs/stable/io.html) for more details."
   ]
  },
  {
   "cell_type": "markdown",
   "metadata": {
    "id": "QTDmfbYx0X4B"
   },
   "source": [
    "# Combining `DataFrame`s\n",
    "\n",
    "## SQL-like joins\n",
    "One powerful feature of pandas is it's ability to perform SQL-like joins on `DataFrame`s. Various types of joins are supported: inner joins, left/right outer joins and full joins. To illustrate this, let's start by creating a couple simple `DataFrame`s:"
   ]
  },
  {
   "cell_type": "code",
   "execution_count": null,
   "metadata": {
    "id": "Va18a1yU0X4B",
    "outputId": "33283d34-3b64-49d5-cd6e-94f7c43c1ced"
   },
   "outputs": [],
   "source": [
    "city_loc = pd.DataFrame(\n",
    "    [\n",
    "        [\"CA\", \"San Francisco\", 37.781334, -122.416728],\n",
    "        [\"NY\", \"New York\", 40.705649, -74.008344],\n",
    "        [\"FL\", \"Miami\", 25.791100, -80.320733],\n",
    "        [\"OH\", \"Cleveland\", 41.473508, -81.739791],\n",
    "        [\"UT\", \"Salt Lake City\", 40.755851, -111.896657]\n",
    "    ], columns=[\"state\", \"city\", \"lat\", \"lng\"])\n",
    "city_loc"
   ]
  },
  {
   "cell_type": "code",
   "execution_count": null,
   "metadata": {
    "id": "kkC-eKwq0X4B",
    "outputId": "9a380ce0-39fb-4640-e036-b31711e169b8"
   },
   "outputs": [],
   "source": [
    "city_pop = pd.DataFrame(\n",
    "    [\n",
    "        [808976, \"San Francisco\", \"California\"],\n",
    "        [8363710, \"New York\", \"New-York\"],\n",
    "        [413201, \"Miami\", \"Florida\"],\n",
    "        [2242193, \"Houston\", \"Texas\"]\n",
    "    ], index=[3,4,5,6], columns=[\"population\", \"city\", \"state\"])\n",
    "city_pop"
   ]
  },
  {
   "cell_type": "markdown",
   "metadata": {
    "id": "OE9vJe3r0X4B"
   },
   "source": [
    "Now let's join these `DataFrame`s using the `merge()` function:"
   ]
  },
  {
   "cell_type": "code",
   "execution_count": null,
   "metadata": {
    "id": "Ii4X4Ei50X4B",
    "outputId": "5acb76ac-5856-4f9c-c558-7dd4b685e0c6"
   },
   "outputs": [],
   "source": [
    "pd.merge(left=city_loc, right=city_pop, on=\"city\")"
   ]
  },
  {
   "cell_type": "markdown",
   "metadata": {
    "id": "yhG4TVik0X4B"
   },
   "source": [
    "Note that both `DataFrame`s have a column named `state`, so in the result they got renamed to `state_x` and `state_y`.\n",
    "\n",
    "Also, note that Cleveland, Salt Lake City and Houston were dropped because they don't exist in *both* `DataFrame`s. This is the equivalent of a SQL `INNER JOIN`. If you want a `FULL OUTER JOIN`, where no city gets dropped and `NaN` values are added, you must specify `how=\"outer\"`:"
   ]
  },
  {
   "cell_type": "code",
   "execution_count": null,
   "metadata": {
    "id": "NoSes8rI0X4B",
    "outputId": "a99241c7-dd6f-46d6-f440-5447f18edee9"
   },
   "outputs": [],
   "source": [
    "all_cities = pd.merge(left=city_loc, right=city_pop, on=\"city\", how=\"outer\")\n",
    "all_cities"
   ]
  },
  {
   "cell_type": "markdown",
   "metadata": {
    "id": "O7CamL1n0X4C"
   },
   "source": [
    "Of course `LEFT OUTER JOIN` is also available by setting `how=\"left\"`: only the cities present in the left `DataFrame` end up in the result. Similarly, with `how=\"right\"` only cities in the right `DataFrame` appear in the result. For example:"
   ]
  },
  {
   "cell_type": "code",
   "execution_count": null,
   "metadata": {
    "id": "OcX7NZJ00X4C",
    "outputId": "e4018e5e-6079-4bdc-ac02-879b705a3966"
   },
   "outputs": [],
   "source": [
    "pd.merge(left=city_loc, right=city_pop, on=\"city\", how=\"right\")"
   ]
  },
  {
   "cell_type": "markdown",
   "metadata": {
    "id": "PqyFqWRA0X4C"
   },
   "source": [
    "If the key to join on is actually in one (or both) `DataFrame`'s index, you must use `left_index=True` and/or `right_index=True`. If the key column names differ, you must use `left_on` and `right_on`. For example:"
   ]
  },
  {
   "cell_type": "code",
   "execution_count": null,
   "metadata": {
    "id": "uirLLOiQ0X4C",
    "outputId": "c317321a-9a64-4e1a-9b09-bf1d59689e7f"
   },
   "outputs": [],
   "source": [
    "city_pop2 = city_pop.copy()\n",
    "city_pop2.columns = [\"population\", \"name\", \"state\"]\n",
    "pd.merge(left=city_loc, right=city_pop2, left_on=\"city\", right_on=\"name\")"
   ]
  },
  {
   "cell_type": "markdown",
   "metadata": {
    "id": "gDYkqULh0X4C"
   },
   "source": [
    "## Concatenation\n",
    "Rather than joining `DataFrame`s, we may just want to concatenate them. That's what `concat()` is for:"
   ]
  },
  {
   "cell_type": "code",
   "execution_count": null,
   "metadata": {
    "id": "PIGcLx7u0X4C",
    "outputId": "82bec5f4-b96a-4efd-d67f-3d8ecc492fdd"
   },
   "outputs": [],
   "source": [
    "result_concat = pd.concat([city_loc, city_pop])\n",
    "result_concat"
   ]
  },
  {
   "cell_type": "markdown",
   "metadata": {
    "id": "2nCHDvCL0X4C"
   },
   "source": [
    "Note that this operation aligned the data horizontally (by columns) but not vertically (by rows). In this example, we end up with multiple rows having the same index (eg. 3). Pandas handles this rather gracefully:"
   ]
  },
  {
   "cell_type": "code",
   "execution_count": null,
   "metadata": {
    "id": "gJj0ck580X4C",
    "outputId": "fbbb9ba6-19f6-4362-92a5-c5ae4c54bac3"
   },
   "outputs": [],
   "source": [
    "result_concat.loc[3]"
   ]
  },
  {
   "cell_type": "markdown",
   "metadata": {
    "id": "Dq6PvQ750X4C"
   },
   "source": [
    "Or you can tell pandas to just ignore the index:"
   ]
  },
  {
   "cell_type": "code",
   "execution_count": null,
   "metadata": {
    "id": "kDiL0hiO0X4C",
    "outputId": "042fe88f-b686-4106-8624-95706b4fbd10"
   },
   "outputs": [],
   "source": [
    "pd.concat([city_loc, city_pop], ignore_index=True)"
   ]
  },
  {
   "cell_type": "markdown",
   "metadata": {
    "id": "tqIBjp5u0X4D"
   },
   "source": [
    "Notice that when a column does not exist in a `DataFrame`, it acts as if it was filled with `NaN` values. If we set `join=\"inner\"`, then only columns that exist in *both* `DataFrame`s are returned:"
   ]
  },
  {
   "cell_type": "code",
   "execution_count": null,
   "metadata": {
    "id": "aFb01Qy90X4D",
    "outputId": "b0f23366-3a18-464c-fbbf-433e85322915"
   },
   "outputs": [],
   "source": [
    "pd.concat([city_loc, city_pop], join=\"inner\")"
   ]
  },
  {
   "cell_type": "markdown",
   "metadata": {
    "id": "GtT-5E3D0X4D"
   },
   "source": [
    "You can concatenate `DataFrame`s horizontally instead of vertically by setting `axis=1`:"
   ]
  },
  {
   "cell_type": "code",
   "execution_count": null,
   "metadata": {
    "id": "lzGMivKV0X4D",
    "outputId": "a9e9b9b3-cdca-4afa-dbe4-c717c4fa1c97",
    "scrolled": true
   },
   "outputs": [],
   "source": [
    "pd.concat([city_loc, city_pop], axis=1)"
   ]
  },
  {
   "cell_type": "markdown",
   "metadata": {
    "id": "Nt1mU_JM0X4D"
   },
   "source": [
    "In this case it really does not make much sense because the indices do not align well (eg. Cleveland and San Francisco end up on the same row, because they shared the index label `3`). So let's reindex the `DataFrame`s by city name before concatenating:"
   ]
  },
  {
   "cell_type": "code",
   "execution_count": null,
   "metadata": {
    "id": "j9otbKvB0X4D",
    "outputId": "5390c394-6cc8-4a70-d58c-f603c00e4e2f",
    "scrolled": true
   },
   "outputs": [],
   "source": [
    "pd.concat([city_loc.set_index(\"city\"), city_pop.set_index(\"city\")], axis=1)"
   ]
  },
  {
   "cell_type": "markdown",
   "metadata": {
    "id": "Er3MP_Il0X4D"
   },
   "source": [
    "This looks a lot like a `FULL OUTER JOIN`, except that the `state` columns were not renamed to `state_x` and `state_y`, and the `city` column is now the index."
   ]
  },
  {
   "cell_type": "markdown",
   "metadata": {
    "id": "ZzCR_Q_V0X4D"
   },
   "source": [
    "The `append()` method is a useful shorthand for concatenating `DataFrame`s vertically:"
   ]
  },
  {
   "cell_type": "code",
   "execution_count": null,
   "metadata": {
    "id": "5KNqv5vD0X4D",
    "outputId": "44cbe6c5-dcaf-4885-8c5b-0e3a4dfac7d0"
   },
   "outputs": [],
   "source": [
    "city_loc.append(city_pop)"
   ]
  },
  {
   "cell_type": "markdown",
   "metadata": {
    "id": "r30L9lph0X4E"
   },
   "source": [
    "As always in pandas, the `append()` method does *not* actually modify `city_loc`: it works on a copy and returns the modified copy."
   ]
  },
  {
   "cell_type": "markdown",
   "metadata": {
    "id": "jFXMXqx00X4E"
   },
   "source": [
    "# Categories\n",
    "It is quite frequent to have values that represent categories, for example `1` for female and `2` for male, or `\"A\"` for Good, `\"B\"` for Average, `\"C\"` for Bad. These categorical values can be hard to read and cumbersome to handle, but fortunately pandas makes it easy. To illustrate this, let's take the `city_pop` `DataFrame` we created earlier, and add a column that represents a category:"
   ]
  },
  {
   "cell_type": "code",
   "execution_count": null,
   "metadata": {
    "id": "KsnOaNkC0X4E",
    "outputId": "02016dc5-70d0-413b-dc13-cb8384e67187"
   },
   "outputs": [],
   "source": [
    "city_eco = city_pop.copy()\n",
    "city_eco[\"eco_code\"] = [17, 17, 34, 20]\n",
    "city_eco"
   ]
  },
  {
   "cell_type": "markdown",
   "metadata": {
    "id": "Gp3gmWO40X4E"
   },
   "source": [
    "Right now the `eco_code` column is full of apparently meaningless codes. Let's fix that. First, we will create a new categorical column based on the `eco_code`s:"
   ]
  },
  {
   "cell_type": "code",
   "execution_count": null,
   "metadata": {
    "id": "T6WUswHM0X4E",
    "outputId": "280c6295-d148-45db-8483-bb8f78b32160"
   },
   "outputs": [],
   "source": [
    "city_eco[\"economy\"] = city_eco[\"eco_code\"].astype('category')\n",
    "city_eco[\"economy\"].cat.categories"
   ]
  },
  {
   "cell_type": "markdown",
   "metadata": {
    "id": "YhV2SD130X4H"
   },
   "source": [
    "Now we can give each category a meaningful name:"
   ]
  },
  {
   "cell_type": "code",
   "execution_count": null,
   "metadata": {
    "id": "cWE6hvk20X4H",
    "outputId": "07759840-4562-4c71-c8b8-ba81856f68d7"
   },
   "outputs": [],
   "source": [
    "city_eco[\"economy\"].cat.categories = [\"Finance\", \"Energy\", \"Tourism\"]\n",
    "city_eco"
   ]
  },
  {
   "cell_type": "markdown",
   "metadata": {
    "id": "Aumqm_KP0X4H"
   },
   "source": [
    "Note that categorical values are sorted according to their categorical order, *not* their alphabetical order:"
   ]
  },
  {
   "cell_type": "code",
   "execution_count": null,
   "metadata": {
    "id": "wg50jvGB0X4H",
    "outputId": "ee18a543-0865-46ef-f6c1-677851723139"
   },
   "outputs": [],
   "source": [
    "city_eco.sort_values(by=\"economy\", ascending=False)"
   ]
  },
  {
   "cell_type": "markdown",
   "metadata": {
    "id": "Cggdem7A0X4H"
   },
   "source": [
    "# What next?\n",
    "As you probably noticed by now, pandas is quite a large library with *many* features. Although we went through the most important features, there is still a lot to discover. Probably the best way to learn more is to get your hands dirty with some real-life data. It is also a good idea to go through pandas' excellent [documentation](http://pandas.pydata.org/pandas-docs/stable/index.html), in particular the [Cookbook](http://pandas.pydata.org/pandas-docs/stable/cookbook.html)."
   ]
  },
  {
   "cell_type": "code",
   "execution_count": null,
   "metadata": {
    "id": "xYRitkB_0X4H"
   },
   "outputs": [],
   "source": []
  }
 ],
 "metadata": {
  "colab": {
   "provenance": []
  },
  "kernelspec": {
   "display_name": "Python 3 (ipykernel)",
   "language": "python",
   "name": "python3"
  },
  "language_info": {
   "codemirror_mode": {
    "name": "ipython",
    "version": 3
   },
   "file_extension": ".py",
   "mimetype": "text/x-python",
   "name": "python",
   "nbconvert_exporter": "python",
   "pygments_lexer": "ipython3",
   "version": "3.11.2"
  },
  "toc": {
   "toc_cell": false,
   "toc_number_sections": true,
   "toc_section_display": "none",
   "toc_threshold": 6,
   "toc_window_display": true
  }
 },
 "nbformat": 4,
 "nbformat_minor": 1
}
