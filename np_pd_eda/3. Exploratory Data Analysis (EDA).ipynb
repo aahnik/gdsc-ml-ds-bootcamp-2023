{
 "cells": [
  {
   "attachments": {},
   "cell_type": "markdown",
   "metadata": {},
   "source": [
    "# Today's Session: Exploratory Data Analysis (EDA)\n",
    "\n",
    "\n",
    "Todays' Agenda:\n",
    "1. Data Exploration\n",
    "2. Data Cleaning \n",
    "3. Data Visualization\n",
    "4. Data Transformation \n",
    "\n",
    "\n",
    "## 1. Data Exploration\n",
    "\n",
    "### Topic\n",
    "1. Data Types\n",
    "2. Data Dimensions\n",
    "3. Data Summary\n",
    "4. Checking for Missing Values\n",
    "5. Checking for Duplicates\n",
    "6. Checking for Outliers\n",
    "7. Checking for Unqiue Values\n",
    "8. Checking for Distribution of Data (Skewness)\n",
    "9. Checking for Value Counts\n",
    "\n",
    "\n",
    "## 2. Data Cleaning\n",
    "\n",
    "### Topic \n",
    "1. Transforming Data Types (Categorical to Numerical)\n",
    "2. Handling Missing Values\n",
    "3. Handling Duplicates\n",
    "4. Handling Outliers\n",
    "\n",
    "## 3. Data Visualization\n",
    "\n",
    "## Different Types of Plots \n",
    "\n",
    "1. Line Plot\n",
    "2. Scatter Plot\n",
    "3. Histogram\n",
    "4. Box Plot\n",
    "5. Bar Plot\n",
    "6. Pie Chart\n",
    "7. Stacked Bar Plot\n",
    "8. Stacked Area Plot\n",
    "9. Density Plot\n",
    "10. Distribution Plot\n",
    "\n",
    "\n",
    "### How are these plots useful in EDA? \n",
    "1. Univariate Analysis\n",
    "     - Countinous Variables\n",
    "         - Distribution Plot \n",
    "         - Box Plot\n",
    "         - Density Plot\n",
    "         - Scatter Plot  \n",
    "     - Categorical Variables\n",
    "         - Bar Plot\n",
    "         - Pie Chart\n",
    "         - Histogram\n",
    "         - Density Plot\n",
    "         - Scatter Plot\n",
    "\n",
    "2. Bivariate Analysis\n",
    "    - Numerical\n",
    "         - Scatter Plot\n",
    "    - Categorical\n",
    "         - Bar Plot\n",
    "         - Scatter Plot\n",
    "3. Multivariate Analysis\n",
    "     - Correlation Matrix\n",
    "     - Heatmap\n",
    "     - Pair Plot\n",
    "\n",
    "\n",
    "## 4. Data Transformation\n",
    "\n",
    "### Topic\n",
    "1. Scaling [Min-Max, Standardization, Normalization]\n",
    "2. Normalization [Log, Square Root, Cube Root]\n",
    "3. Standardization [Z-Score, Min-Max]\n",
    "4. Binning \n",
    "5. Encoding [Label Encoding, One Hot Encoding]\n",
    "6. Feature Engineering [Feature Extraction, Feature Generation, Feature Transformation]\n",
    "7. Feature Selection\n",
    "\n",
    "## 5. Data Preprocessing\n",
    "\n",
    "### Topic\n",
    "1. Train Test Split \n",
    "\n",
    "\n",
    "\n",
    "\n",
    "\n",
    "\n",
    "\n",
    "\n",
    "\n",
    "\n"
   ]
  },
  {
   "cell_type": "code",
   "execution_count": null,
   "metadata": {},
   "outputs": [],
   "source": [
    "import pandas as pd\n",
    "import numpy as np\n",
    "import matplotlib.pyplot as plt\n",
    "import seaborn as sns\n"
   ]
  },
  {
   "cell_type": "code",
   "execution_count": null,
   "metadata": {},
   "outputs": [],
   "source": [
    "# Read in the data\n",
    "df = pd.read_csv('./Datasets/data.csv')"
   ]
  },
  {
   "cell_type": "code",
   "execution_count": null,
   "metadata": {},
   "outputs": [],
   "source": [
    "df.head()"
   ]
  },
  {
   "attachments": {},
   "cell_type": "markdown",
   "metadata": {},
   "source": [
    "## 1. Data Exploration\n",
    "\n",
    "### Topic\n",
    "\n",
    "1. Data Dimensions\n",
    "2. Data Summary\n",
    "8. Data Types\n",
    "7. Checking for Value Counts\n",
    "6. Checking for Unqiue Values\n",
    "3. Checking for Missing Values\n",
    "4. Checking for Duplicates\n",
    "5. Checking for Outliers\n",
    "9. Checking for Distribution of Data (Skewness)\n"
   ]
  },
  {
   "cell_type": "code",
   "execution_count": null,
   "metadata": {},
   "outputs": [],
   "source": [
    "#check the shape of the data\n",
    "df.shape"
   ]
  },
  {
   "cell_type": "code",
   "execution_count": null,
   "metadata": {},
   "outputs": [],
   "source": [
    "#check the columns\n",
    "df.columns"
   ]
  },
  {
   "cell_type": "code",
   "execution_count": null,
   "metadata": {},
   "outputs": [],
   "source": [
    "#describe the data\n",
    "df.describe()"
   ]
  },
  {
   "cell_type": "code",
   "execution_count": null,
   "metadata": {},
   "outputs": [],
   "source": [
    "#check the data types\n",
    "df.dtypes"
   ]
  },
  {
   "cell_type": "code",
   "execution_count": null,
   "metadata": {},
   "outputs": [],
   "source": [
    "#describe all the columns\n",
    "df.describe(include='all')"
   ]
  },
  {
   "cell_type": "code",
   "execution_count": null,
   "metadata": {},
   "outputs": [],
   "source": [
    "# df['Year'].describe(include=)"
   ]
  },
  {
   "cell_type": "code",
   "execution_count": null,
   "metadata": {},
   "outputs": [],
   "source": [
    "#lets understand the data column wise \n",
    "#value counts\n",
    "df['Make'].value_counts()"
   ]
  },
  {
   "cell_type": "code",
   "execution_count": null,
   "metadata": {},
   "outputs": [],
   "source": [
    "df['Make'].value_counts().index"
   ]
  },
  {
   "cell_type": "code",
   "execution_count": null,
   "metadata": {},
   "outputs": [],
   "source": [
    "#make a bar plot\n",
    "plt.bar(df['Make'].value_counts().index, df['Make'].value_counts())"
   ]
  },
  {
   "cell_type": "code",
   "execution_count": null,
   "metadata": {},
   "outputs": [],
   "source": [
    "#make a horizontal bar plot\n",
    "plt.barh(df['Make'].value_counts().index, df['Make'].value_counts())"
   ]
  },
  {
   "cell_type": "code",
   "execution_count": null,
   "metadata": {},
   "outputs": [],
   "source": [
    "#understanding matplotlib\n",
    "# fig = plt.figure(figsize=(10,5))\n",
    "fig, ax = plt.subplots(figsize=(10,15))\n",
    "ax.barh(df['Make'].value_counts().index, df['Make'].value_counts())\n",
    "plt.show()"
   ]
  },
  {
   "cell_type": "code",
   "execution_count": null,
   "metadata": {},
   "outputs": [],
   "source": []
  },
  {
   "cell_type": "code",
   "execution_count": null,
   "metadata": {},
   "outputs": [],
   "source": [
    "# plt.figure(figsize=(10,15))\n",
    "fig, ax = plt.subplots(figsize=(10,15))\n",
    "# bars = ax.barh(indexes, values)\n",
    "\n",
    "bars = ax.barh(df['Make'].value_counts().index,df['Make'].value_counts().values)\n",
    "ax.bar_label(bars)\n",
    "plt.show()"
   ]
  },
  {
   "cell_type": "code",
   "execution_count": null,
   "metadata": {},
   "outputs": [],
   "source": []
  },
  {
   "cell_type": "code",
   "execution_count": null,
   "metadata": {},
   "outputs": [],
   "source": [
    "#second column\n",
    "df['Model'].value_counts()[:10]"
   ]
  },
  {
   "cell_type": "code",
   "execution_count": null,
   "metadata": {},
   "outputs": [],
   "source": [
    "# plt.figure(figsize=(10,15))\n",
    "fig, ax = plt.subplots(figsize=(10,15))\n",
    "# bars = ax.barh(indexes, values)\n",
    "\n",
    "bars = ax.barh(df['Model'].value_counts()[:10].index,df['Model'].value_counts()[:10].values)\n",
    "ax.bar_label(bars)\n",
    "plt.show()"
   ]
  },
  {
   "cell_type": "code",
   "execution_count": null,
   "metadata": {},
   "outputs": [],
   "source": [
    "#third column\n",
    "df['Year'].value_counts()"
   ]
  },
  {
   "cell_type": "code",
   "execution_count": null,
   "metadata": {},
   "outputs": [],
   "source": [
    "df['Year'].nunique()"
   ]
  },
  {
   "cell_type": "code",
   "execution_count": null,
   "metadata": {},
   "outputs": [],
   "source": [
    "#get min and max year\n",
    "df['Year'].min(), df['Year'].max()"
   ]
  },
  {
   "cell_type": "code",
   "execution_count": null,
   "metadata": {},
   "outputs": [],
   "source": [
    "df"
   ]
  },
  {
   "cell_type": "code",
   "execution_count": null,
   "metadata": {},
   "outputs": [],
   "source": [
    "yearDist"
   ]
  },
  {
   "cell_type": "code",
   "execution_count": null,
   "metadata": {},
   "outputs": [],
   "source": [
    "#lets see the distribution of the year\n",
    "fig, ax = plt.subplots(figsize=(10,10))\n",
    "yearDist = ax.hist(df['Year'], bins=28, orientation='horizontal')\n",
    "ax.bar_label(yearDist[2])\n",
    "plt.show()"
   ]
  },
  {
   "cell_type": "code",
   "execution_count": null,
   "metadata": {},
   "outputs": [],
   "source": [
    "#third column\n",
    "df['Engine Fuel Type'].value_counts()"
   ]
  },
  {
   "cell_type": "code",
   "execution_count": null,
   "metadata": {},
   "outputs": [],
   "source": [
    "#fourth column\n",
    "df['Engine HP'].value_counts()"
   ]
  },
  {
   "cell_type": "code",
   "execution_count": null,
   "metadata": {},
   "outputs": [],
   "source": [
    "#line plot\n",
    "fig, ax = plt.subplots(figsize=(10,10))\n",
    "ax.plot(df['Engine HP'])\n",
    "plt.show()\n"
   ]
  },
  {
   "cell_type": "code",
   "execution_count": null,
   "metadata": {},
   "outputs": [],
   "source": [
    "#fifth column\n",
    "df['Engine Cylinders'].value_counts()"
   ]
  },
  {
   "cell_type": "code",
   "execution_count": null,
   "metadata": {},
   "outputs": [],
   "source": [
    "#sixth column\n",
    "df['Transmission Type'].value_counts()"
   ]
  },
  {
   "cell_type": "code",
   "execution_count": null,
   "metadata": {},
   "outputs": [],
   "source": [
    "#seventh column\n",
    "df['Driven_Wheels'].value_counts()\n"
   ]
  },
  {
   "cell_type": "code",
   "execution_count": null,
   "metadata": {},
   "outputs": [],
   "source": [
    "#eighth column\n",
    "df['Number of Doors'].value_counts()\n"
   ]
  },
  {
   "cell_type": "code",
   "execution_count": null,
   "metadata": {},
   "outputs": [],
   "source": [
    "#ninth column\n",
    "df['Market Category'].value_counts()"
   ]
  },
  {
   "cell_type": "code",
   "execution_count": null,
   "metadata": {},
   "outputs": [],
   "source": [
    "#tenth column\n",
    "df['Vehicle Size'].value_counts()"
   ]
  },
  {
   "cell_type": "code",
   "execution_count": null,
   "metadata": {},
   "outputs": [],
   "source": [
    "#eleventh column\n",
    "df['Vehicle Style'].value_counts()\n"
   ]
  },
  {
   "cell_type": "code",
   "execution_count": null,
   "metadata": {},
   "outputs": [],
   "source": [
    "df['highway MPG'].max()"
   ]
  },
  {
   "cell_type": "code",
   "execution_count": null,
   "metadata": {},
   "outputs": [],
   "source": [
    "df[df['highway MPG'] == 354]"
   ]
  },
  {
   "cell_type": "code",
   "execution_count": null,
   "metadata": {},
   "outputs": [],
   "source": [
    "#twelveth column\n",
    "df['highway MPG'].value_counts()"
   ]
  },
  {
   "cell_type": "code",
   "execution_count": null,
   "metadata": {},
   "outputs": [],
   "source": [
    "#thirteenth column\n",
    "df['city mpg'].value_counts()\n"
   ]
  },
  {
   "cell_type": "code",
   "execution_count": null,
   "metadata": {},
   "outputs": [],
   "source": [
    "#fourteenth column\n",
    "df['Popularity'].value_counts()"
   ]
  },
  {
   "cell_type": "code",
   "execution_count": null,
   "metadata": {},
   "outputs": [],
   "source": [
    "#fifteenth column\n",
    "df['MSRP'].value_counts()"
   ]
  },
  {
   "cell_type": "code",
   "execution_count": null,
   "metadata": {},
   "outputs": [],
   "source": [
    "df.describe(include='all')"
   ]
  },
  {
   "cell_type": "code",
   "execution_count": null,
   "metadata": {},
   "outputs": [],
   "source": [
    "df.dtypes"
   ]
  },
  {
   "cell_type": "code",
   "execution_count": null,
   "metadata": {},
   "outputs": [],
   "source": [
    "df['Engine Fuel Type'].isnull()"
   ]
  },
  {
   "cell_type": "code",
   "execution_count": null,
   "metadata": {},
   "outputs": [],
   "source": [
    "#Check for missing values\n",
    "df.isnull().sum()"
   ]
  },
  {
   "cell_type": "code",
   "execution_count": null,
   "metadata": {},
   "outputs": [],
   "source": [
    "df['Engine Fuel Type'].value_counts()"
   ]
  },
  {
   "cell_type": "code",
   "execution_count": null,
   "metadata": {},
   "outputs": [],
   "source": [
    "df[df['Engine Fuel Type'].isnull()]"
   ]
  },
  {
   "cell_type": "code",
   "execution_count": null,
   "metadata": {},
   "outputs": [],
   "source": [
    "# get all carsof model Verona from Suzuki\n",
    "df[(df['Make']=='Suzuki') & (df['Model']=='Verona')]"
   ]
  },
  {
   "cell_type": "code",
   "execution_count": null,
   "metadata": {},
   "outputs": [],
   "source": [
    "df[(df['Make']=='Suzuki') & (df['Model']=='Verona')]['Engine Fuel Type'].mode()"
   ]
  },
  {
   "cell_type": "code",
   "execution_count": null,
   "metadata": {},
   "outputs": [],
   "source": [
    "#get mode of Engine Fuel Type\n",
    "df['Engine Fuel Type'].mode()[0]"
   ]
  },
  {
   "cell_type": "code",
   "execution_count": null,
   "metadata": {},
   "outputs": [],
   "source": [
    "# fill the Engine Fuel Type with the mode of the column\n",
    "df['Engine Fuel Type'].fillna(df['Engine Fuel Type'].mode()[0], inplace=True)"
   ]
  },
  {
   "cell_type": "code",
   "execution_count": null,
   "metadata": {},
   "outputs": [],
   "source": [
    "df.isnull().sum()"
   ]
  },
  {
   "cell_type": "code",
   "execution_count": null,
   "metadata": {},
   "outputs": [],
   "source": [
    "#check the cars with missing Engine HP\n",
    "df[df['Engine HP'].isnull()]"
   ]
  },
  {
   "cell_type": "code",
   "execution_count": null,
   "metadata": {},
   "outputs": [],
   "source": [
    "#check the percentage of missing values\n",
    "df['Engine HP'].isnull().sum()/df.shape[0]*100"
   ]
  },
  {
   "cell_type": "code",
   "execution_count": null,
   "metadata": {},
   "outputs": [],
   "source": [
    "#drop the rows with missing Engine HP\n",
    "df.dropna(subset=['Engine HP'], inplace=True)"
   ]
  },
  {
   "cell_type": "code",
   "execution_count": null,
   "metadata": {},
   "outputs": [],
   "source": [
    "df.isnull().sum()"
   ]
  },
  {
   "cell_type": "code",
   "execution_count": null,
   "metadata": {},
   "outputs": [],
   "source": [
    "#check the cars with missing Engine Cylinders\n",
    "df[df['Engine Cylinders'].isnull()]"
   ]
  },
  {
   "cell_type": "code",
   "execution_count": null,
   "metadata": {},
   "outputs": [],
   "source": [
    "# get all chevrolet cars and Bolt EV model\n",
    "df[(df['Make']=='Chevrolet') & (df['Model']=='Bolt EV')]"
   ]
  },
  {
   "cell_type": "code",
   "execution_count": null,
   "metadata": {},
   "outputs": [],
   "source": [
    "# get all Volkswagen cars and e-Golf model\n",
    "df[(df['Make']=='Volkswagen') & (df['Model']=='e-Golf')]"
   ]
  },
  {
   "cell_type": "code",
   "execution_count": null,
   "metadata": {},
   "outputs": [],
   "source": [
    "# get all unique values of Make and Model in df[df['Engine Cylinders'].isnull()]\n",
    "df[df['Engine Cylinders'].isnull()][['Make', 'Model']].drop_duplicates()"
   ]
  },
  {
   "cell_type": "code",
   "execution_count": null,
   "metadata": {},
   "outputs": [],
   "source": [
    "for x, y in df[df['Engine Cylinders'].isnull()][['Make', 'Model']].drop_duplicates().values:\n",
    "    print(x, y)\n",
    "    print(df[(df['Make']==x) & (df['Model']==y)]['Engine Cylinders'])\n",
    "    print()"
   ]
  },
  {
   "cell_type": "code",
   "execution_count": null,
   "metadata": {},
   "outputs": [],
   "source": [
    "#check the percentage of missing values\n",
    "df['Engine Cylinders'].isnull().sum()/df.shape[0]"
   ]
  },
  {
   "cell_type": "code",
   "execution_count": null,
   "metadata": {},
   "outputs": [],
   "source": [
    "#drop the rows with missing Engine Cylinders\n",
    "df.dropna(subset=['Engine Cylinders'], inplace=True)"
   ]
  },
  {
   "cell_type": "code",
   "execution_count": null,
   "metadata": {},
   "outputs": [],
   "source": [
    "df.isnull().sum()"
   ]
  },
  {
   "cell_type": "code",
   "execution_count": null,
   "metadata": {},
   "outputs": [],
   "source": [
    "#check the cars with missing Number of Doors\n",
    "df[df['Number of Doors'].isnull()]"
   ]
  },
  {
   "cell_type": "code",
   "execution_count": null,
   "metadata": {},
   "outputs": [],
   "source": [
    "# check for Ferrari and FF model\n",
    "df[(df['Make']=='Ferrari') & (df['Model']=='FF')]"
   ]
  },
  {
   "cell_type": "code",
   "execution_count": null,
   "metadata": {},
   "outputs": [],
   "source": [
    "#fill the missing values with 2\n",
    "df['Number of Doors'].fillna(2, inplace=True)"
   ]
  },
  {
   "cell_type": "code",
   "execution_count": null,
   "metadata": {},
   "outputs": [],
   "source": [
    "df.isnull().sum()"
   ]
  },
  {
   "cell_type": "code",
   "execution_count": null,
   "metadata": {},
   "outputs": [],
   "source": [
    "#check the cars with missing Market Category\n",
    "df[df['Market Category'].isnull()]"
   ]
  },
  {
   "cell_type": "code",
   "execution_count": null,
   "metadata": {},
   "outputs": [],
   "source": [
    "#drop the rows with missing Market Category\n",
    "df.dropna(subset=['Market Category'], inplace=True)"
   ]
  },
  {
   "cell_type": "code",
   "execution_count": null,
   "metadata": {},
   "outputs": [],
   "source": [
    "df.isnull().sum()"
   ]
  },
  {
   "cell_type": "code",
   "execution_count": null,
   "metadata": {},
   "outputs": [],
   "source": [
    "#check shape of the data\n",
    "df.shape"
   ]
  },
  {
   "cell_type": "markdown",
   "metadata": {},
   "source": [
    "6. Checking for Unqiue Values\n",
    "3. Checking for Missing Values\n",
    "4. Checking for Duplicates\n",
    "5. Checking for Outliers\n",
    "9. Checking for Distribution of Data (Skewness)"
   ]
  },
  {
   "cell_type": "code",
   "execution_count": null,
   "metadata": {},
   "outputs": [],
   "source": [
    "#check for duplicates\n",
    "df.duplicated().sum()"
   ]
  },
  {
   "cell_type": "code",
   "execution_count": null,
   "metadata": {},
   "outputs": [],
   "source": [
    "df[df.duplicated()]"
   ]
  },
  {
   "cell_type": "code",
   "execution_count": null,
   "metadata": {},
   "outputs": [],
   "source": [
    "df[df.duplicated(keep=False)] #keep=False will show all the duplicates"
   ]
  },
  {
   "cell_type": "code",
   "execution_count": null,
   "metadata": {},
   "outputs": [],
   "source": [
    "#drop the duplicates\n",
    "df.drop_duplicates(inplace=True)"
   ]
  },
  {
   "cell_type": "code",
   "execution_count": null,
   "metadata": {},
   "outputs": [],
   "source": [
    "df.duplicated().sum()"
   ]
  },
  {
   "cell_type": "code",
   "execution_count": null,
   "metadata": {},
   "outputs": [],
   "source": [
    "df.shape"
   ]
  },
  {
   "cell_type": "code",
   "execution_count": null,
   "metadata": {},
   "outputs": [],
   "source": [
    "df['MSR']"
   ]
  },
  {
   "cell_type": "code",
   "execution_count": null,
   "metadata": {},
   "outputs": [],
   "source": [
    "#What are outliers?\n",
    "#Outliers are the data points that are far away from the rest of the data points.\n",
    "#Why do we need to remove outliers?\n",
    "#Outliers can cause problems in the data analysis process.\n",
    "\n",
    "#methods to detect outliers\n",
    "#1. Box plot\n",
    "#2. Z-score\n",
    "#3. IQR\n",
    "\n",
    "\n",
    "#1. Box plot\n",
    "#box plot is a graphical representation of numerical data through their quartiles.\n",
    "\n",
    "#lets see the box plot of MSRP\n",
    "plt.boxplot(df['MSRP'])\n",
    "plt.show()"
   ]
  },
  {
   "cell_type": "code",
   "execution_count": null,
   "metadata": {},
   "outputs": [],
   "source": [
    "#lets see the box plot of Engine HP\n",
    "plt.boxplot(df['Engine HP'])\n",
    "plt.show()"
   ]
  },
  {
   "cell_type": "code",
   "execution_count": null,
   "metadata": {},
   "outputs": [],
   "source": [
    "df['Engine Cylinders'].value_counts()"
   ]
  },
  {
   "cell_type": "code",
   "execution_count": null,
   "metadata": {},
   "outputs": [],
   "source": [
    "#lets see the box plot of Engine Cylinders\n",
    "plt.boxplot(df['Engine Cylinders'])\n",
    "plt.show()"
   ]
  },
  {
   "cell_type": "code",
   "execution_count": null,
   "metadata": {},
   "outputs": [],
   "source": [
    "df['Engine Cylinders'].value_counts()"
   ]
  },
  {
   "cell_type": "code",
   "execution_count": null,
   "metadata": {},
   "outputs": [],
   "source": [
    "df.dtypes"
   ]
  },
  {
   "cell_type": "code",
   "execution_count": null,
   "metadata": {},
   "outputs": [],
   "source": [
    "#category columns\n",
    "cat_cols = df.select_dtypes(include='object').columns\n",
    "cat_cols"
   ]
  },
  {
   "cell_type": "code",
   "execution_count": null,
   "metadata": {},
   "outputs": [],
   "source": [
    "#numerical columns\n",
    "num_cols = df.select_dtypes(exclude='object').columns\n",
    "num_cols"
   ]
  },
  {
   "cell_type": "code",
   "execution_count": null,
   "metadata": {},
   "outputs": [],
   "source": [
    "#lets see the box plot of all numerical columns\n",
    "for col in num_cols:\n",
    "    plt.boxplot(df[col])\n",
    "    plt.title(col)\n",
    "    plt.show()\n"
   ]
  },
  {
   "cell_type": "code",
   "execution_count": null,
   "metadata": {},
   "outputs": [],
   "source": [
    "plt.boxplot(df[df['MSRP']<80000]['MSRP'])\n",
    "plt.show()"
   ]
  },
  {
   "cell_type": "code",
   "execution_count": null,
   "metadata": {},
   "outputs": [],
   "source": [
    "#2. Scatter plot\n",
    "#scatter plot is a graphical representation of the relationship between two numerical variables.\n",
    "\n",
    "#how does scatter plot help in detecting outliers?\n",
    "#outliers are the data points that are far away from the rest of the data points.\n",
    "\n",
    "#lets see the scatter plot of MSRP and Engine HP\n",
    "plt.scatter(df['MSRP'], df['Engine HP'])\n",
    "# plt.title('MSRP vs Engine HP')\n",
    "# plt.xlabel('MSRP')\n",
    "# plt.ylabel('Engine HP')\n",
    "plt.show()\n"
   ]
  },
  {
   "cell_type": "code",
   "execution_count": null,
   "metadata": {},
   "outputs": [],
   "source": [
    "#3. IQR\n",
    "#IQR is the interquartile range.\n",
    "#IQR = Q3 - Q1\n",
    "#Q1 = 25th percentile\n",
    "#Q3 = 75th percentile\n",
    "\n",
    "\n",
    "#writing a function to detect outliers\n",
    "def detect_outliers(df, col):\n",
    "    Q1 = df[col].quantile(0.25)\n",
    "    Q3 = df[col].quantile(0.75)\n",
    "    IQR = Q3 - Q1\n",
    "    lower_bound = Q1 - (1.5 * IQR)\n",
    "    upper_bound = Q3 + (1.5 * IQR)\n",
    "    outliers = df[(df[col]<lower_bound) | (df[col]>upper_bound)]\n",
    "    return outliers.shape[0]\n"
   ]
  },
  {
   "cell_type": "code",
   "execution_count": null,
   "metadata": {},
   "outputs": [],
   "source": [
    "# lets see the outliers in MSRP\n",
    "detect_outliers(df, 'MSRP')"
   ]
  },
  {
   "cell_type": "code",
   "execution_count": null,
   "metadata": {},
   "outputs": [],
   "source": [
    "for col in num_cols:\n",
    "    print(col, detect_outliers(df, col))"
   ]
  },
  {
   "cell_type": "code",
   "execution_count": null,
   "metadata": {},
   "outputs": [],
   "source": []
  },
  {
   "cell_type": "code",
   "execution_count": null,
   "metadata": {},
   "outputs": [],
   "source": [
    "#check the distribution of data (skewness)\n",
    "df.skew()"
   ]
  },
  {
   "cell_type": "code",
   "execution_count": null,
   "metadata": {},
   "outputs": [],
   "source": [
    "#plot the distribution of data (skewness)\n",
    "for col in num_cols:\n",
    "    sns.displot(df[col], kde=True)\n",
    "    plt.title(col)\n",
    "    plt.show()"
   ]
  },
  {
   "cell_type": "code",
   "execution_count": null,
   "metadata": {},
   "outputs": [],
   "source": []
  },
  {
   "cell_type": "code",
   "execution_count": null,
   "metadata": {},
   "outputs": [],
   "source": []
  },
  {
   "attachments": {},
   "cell_type": "markdown",
   "metadata": {},
   "source": [
    "### How are these plots useful in EDA? \n",
    "1. Univariate Analysis\n",
    "     - Countinous Variables\n",
    "         - Distribution Plot \n",
    "         - Box Plot\n",
    "         - Scatter Plot  \n",
    "     - Categorical Variables\n",
    "         - Count Plot\n",
    "         - Bar Plot\n",
    "         - Pie Chart\n",
    "\n",
    "2. Bivariate Analysis\n",
    "    - Numerical\n",
    "         - Scatter Plot\n",
    "    - Categorical\n",
    "         - Bar Plot\n",
    "         - Scatter Plot\n",
    "3. Multivariate Analysis\n",
    "     - Correlation Matrix\n",
    "     - Heatmap\n",
    "     - Pair Plot"
   ]
  },
  {
   "attachments": {},
   "cell_type": "markdown",
   "metadata": {},
   "source": [
    "# Univariate Analysis"
   ]
  },
  {
   "attachments": {},
   "cell_type": "markdown",
   "metadata": {},
   "source": [
    "## Countinous Variables\n",
    "What is a countinous variable?\n",
    "- A countinous variable is a variable that can take any value within a range.\n",
    "- For example, the height of a person can be any value between 0 and 7 feet.\n",
    "\n",
    "## Categorical Variables\n",
    "What is a categorical variable?\n",
    "- A categorical variable is a variable that can take only a limited number of values."
   ]
  },
  {
   "cell_type": "code",
   "execution_count": null,
   "metadata": {},
   "outputs": [],
   "source": [
    "cat_cols"
   ]
  },
  {
   "cell_type": "code",
   "execution_count": null,
   "metadata": {},
   "outputs": [],
   "source": [
    "num_cols"
   ]
  },
  {
   "cell_type": "code",
   "execution_count": null,
   "metadata": {},
   "outputs": [],
   "source": [
    "#lets see the distribution of data for all numerical columns\n",
    "for col in num_cols:\n",
    "    sns.displot(df[col], kde=True)\n",
    "    plt.title(col)\n",
    "    plt.show()"
   ]
  },
  {
   "cell_type": "code",
   "execution_count": null,
   "metadata": {},
   "outputs": [],
   "source": [
    "for col in num_cols:\n",
    "    sns.boxplot(x=col, data=df)\n",
    "    plt.title(col)\n",
    "    plt.show()"
   ]
  },
  {
   "cell_type": "code",
   "execution_count": null,
   "metadata": {},
   "outputs": [],
   "source": [
    "#scatter plot of MSRP\n",
    "sns.scatterplot(x=[i for i in range(df.shape[0])], y='MSRP', data=df)\n",
    "plt.show()"
   ]
  },
  {
   "cell_type": "code",
   "execution_count": null,
   "metadata": {},
   "outputs": [],
   "source": [
    "df.columns"
   ]
  },
  {
   "cell_type": "code",
   "execution_count": null,
   "metadata": {},
   "outputs": [],
   "source": [
    "#scatter plot of Engine HP\n",
    "sns.scatterplot(x=[i for i in range(df.shape[0])], y='Engine HP', data=df)\n",
    "plt.show()"
   ]
  },
  {
   "cell_type": "code",
   "execution_count": null,
   "metadata": {},
   "outputs": [],
   "source": [
    "#lets see the distribution of data for all categorical columns\n",
    "for col in cat_cols:\n",
    "    sns.countplot(x=df[col])\n",
    "    plt.title(col)\n",
    "    plt.xticks(rotation=90)\n",
    "    plt.show()"
   ]
  },
  {
   "cell_type": "code",
   "execution_count": null,
   "metadata": {},
   "outputs": [],
   "source": []
  },
  {
   "cell_type": "code",
   "execution_count": null,
   "metadata": {},
   "outputs": [],
   "source": [
    "#Pie chart of Transmission Type\n",
    "plt.pie(df['Transmission Type'].value_counts(), labels=df['Transmission Type'].value_counts().index, autopct='%1.1f%%')\n",
    "plt.show()"
   ]
  },
  {
   "cell_type": "code",
   "execution_count": null,
   "metadata": {},
   "outputs": [],
   "source": [
    "#Pie chart of Vehicle Size\n",
    "plt.pie(df['Vehicle Size'].value_counts(), labels=df['Vehicle Size'].value_counts().index, autopct='%1.1f%%')\n",
    "plt.show()"
   ]
  },
  {
   "cell_type": "code",
   "execution_count": null,
   "metadata": {},
   "outputs": [],
   "source": [
    "#histogram of MSRP\n",
    "plt.hist(df['Engine HP'], bins=20)"
   ]
  },
  {
   "cell_type": "code",
   "execution_count": null,
   "metadata": {},
   "outputs": [],
   "source": [
    "df.columns"
   ]
  },
  {
   "attachments": {},
   "cell_type": "markdown",
   "metadata": {},
   "source": [
    "# Bivariate Analysis\n",
    "    - Numerical\n",
    "         - Scatter Plot\n",
    "    - Categorical\n",
    "         - Bar Plot\n",
    "         - Scatter Plot"
   ]
  },
  {
   "cell_type": "code",
   "execution_count": null,
   "metadata": {},
   "outputs": [],
   "source": [
    "# scatter plot of MSRP and Engine HP\n",
    "plt.scatter(df['MSRP'], df['Engine HP'])\n",
    "plt.show()"
   ]
  },
  {
   "cell_type": "code",
   "execution_count": null,
   "metadata": {},
   "outputs": [],
   "source": [
    "#cars with more than 1000 HP are having price more than 15 lakhs"
   ]
  },
  {
   "cell_type": "code",
   "execution_count": null,
   "metadata": {},
   "outputs": [],
   "source": [
    "#scatter plot of MSRP and Engine Cylinders\n",
    "plt.scatter(df['MSRP'], df['Engine Cylinders'])\n",
    "plt.show()"
   ]
  },
  {
   "cell_type": "code",
   "execution_count": null,
   "metadata": {},
   "outputs": [],
   "source": [
    "#scatter plot of MSRP and Number of Doors\n",
    "plt.scatter(df['MSRP'], df['Number of Doors'])"
   ]
  },
  {
   "cell_type": "code",
   "execution_count": null,
   "metadata": {},
   "outputs": [],
   "source": [
    "#scatter plot of MSRP and Highway MPG\n",
    "plt.scatter(df['MSRP'], df['highway MPG'])\n",
    "plt.show()"
   ]
  },
  {
   "cell_type": "code",
   "execution_count": null,
   "metadata": {},
   "outputs": [],
   "source": [
    "#scatter plot of MSRP and Highway MPG\n",
    "plt.scatter(df['MSRP'], df['highway MPG'])\n",
    "plt.show()"
   ]
  },
  {
   "cell_type": "code",
   "execution_count": null,
   "metadata": {},
   "outputs": [],
   "source": [
    "df.columns"
   ]
  },
  {
   "cell_type": "code",
   "execution_count": null,
   "metadata": {},
   "outputs": [],
   "source": [
    "group = df.groupby('Make')['MSRP'].mean().sort_values(ascending=False).head(10)\n",
    "group"
   ]
  },
  {
   "cell_type": "code",
   "execution_count": null,
   "metadata": {},
   "outputs": [],
   "source": [
    "#group by Vechile Type and mean of popularity\n",
    "group = df.groupby('Vehicle Style')['Popularity'].mean().sort_values(ascending=False).head(10)\n",
    "group"
   ]
  },
  {
   "cell_type": "code",
   "execution_count": null,
   "metadata": {},
   "outputs": [],
   "source": [
    "#group by Vechile Type and mean of popularity\n",
    "group = df.groupby('Vehicle Size')['Popularity'].mean().sort_values(ascending=False).head(10)\n",
    "group"
   ]
  },
  {
   "cell_type": "code",
   "execution_count": null,
   "metadata": {},
   "outputs": [],
   "source": [
    "#value counts of Vehicle Size\n",
    "df['Vehicle Size'].value_counts()"
   ]
  },
  {
   "cell_type": "code",
   "execution_count": null,
   "metadata": {},
   "outputs": [],
   "source": [
    "#groupby Make and mean of MSRP\n",
    "group = df.groupby('Make')['MSRP'].mean().sort_values(ascending=False).head(10).astype(int)\n",
    "group"
   ]
  },
  {
   "cell_type": "code",
   "execution_count": null,
   "metadata": {},
   "outputs": [],
   "source": [
    "#groupby Make and year and mean of MSRP\n",
    "group = df.groupby(['Make', 'Year'])['MSRP'].mean().sort_values(ascending=False).head(10).astype(int)\n",
    "group"
   ]
  },
  {
   "cell_type": "code",
   "execution_count": null,
   "metadata": {},
   "outputs": [],
   "source": [
    "#bar plot between Make and MSRP\n",
    "plt.bar(df['Make'], df['MSRP'])\n",
    "plt.xticks(rotation=90)\n",
    "plt.show()"
   ]
  },
  {
   "attachments": {},
   "cell_type": "markdown",
   "metadata": {},
   "source": [
    "# Multivariate Analysis\n",
    "     - Correlation Matrix\n",
    "     - Heatmap\n",
    "     - Pair Plot"
   ]
  },
  {
   "cell_type": "code",
   "execution_count": null,
   "metadata": {},
   "outputs": [],
   "source": [
    "#coorelation matrix\n",
    "df.corr()"
   ]
  },
  {
   "cell_type": "code",
   "execution_count": null,
   "metadata": {},
   "outputs": [],
   "source": [
    "sns.heatmap(df.corr(), annot=True)\n",
    "plt.show()"
   ]
  },
  {
   "cell_type": "code",
   "execution_count": null,
   "metadata": {},
   "outputs": [],
   "source": [
    "#pair plot\n",
    "sns.pairplot(df)\n",
    "plt.show()"
   ]
  },
  {
   "attachments": {},
   "cell_type": "markdown",
   "metadata": {},
   "source": [
    "## 4. Data Transformation\n",
    "\n",
    "### Topic\n",
    "1. Scaling [Min-Max, Standardization, Normalization]\n",
    "5. Encoding [Label Encoding, One Hot Encoding]\n",
    "6. Feature Engineering [Feature Extraction, Feature Generation, Feature Transformation]\n",
    "7. Feature Selection"
   ]
  },
  {
   "cell_type": "code",
   "execution_count": null,
   "metadata": {},
   "outputs": [],
   "source": [
    "#import minmax scaler and standard scaler\n",
    "from sklearn.preprocessing import MinMaxScaler, StandardScaler\n",
    "\n",
    "#instantiate the scaler\n",
    "scaler = MinMaxScaler()\n",
    "\n",
    "#fit the scaler to the data\n",
    "scaler.fit(df[num_cols])\n",
    "\n",
    "#transform the data\n",
    "scaled_data = scaler.transform(df[num_cols])\n",
    "\n",
    "df2 = pd.DataFrame(scaled_data, columns=num_cols)\n",
    "df2.head()"
   ]
  },
  {
   "cell_type": "code",
   "execution_count": null,
   "metadata": {},
   "outputs": [],
   "source": []
  },
  {
   "cell_type": "code",
   "execution_count": null,
   "metadata": {},
   "outputs": [],
   "source": [
    "\n",
    "#instantiate the scaler\n",
    "scaler = StandardScaler()\n",
    "\n",
    "#fit the scaler to the data\n",
    "scaler.fit(df[num_cols])\n",
    "\n",
    "#transform the data\n",
    "scaled_data = scaler.transform(df[num_cols])\n",
    "\n",
    "df2 = pd.DataFrame(scaled_data, columns=num_cols)\n",
    "df2.head()"
   ]
  },
  {
   "cell_type": "code",
   "execution_count": null,
   "metadata": {},
   "outputs": [],
   "source": []
  },
  {
   "cell_type": "code",
   "execution_count": null,
   "metadata": {},
   "outputs": [],
   "source": [
    "#import label encoder\n",
    "from sklearn.preprocessing import LabelEncoder\n",
    "\n",
    "#instantiate the encoder\n",
    "encoder = LabelEncoder()\n",
    "\n",
    "#fit it for all cols in cat_cols\n",
    "for col in cat_cols:\n",
    "    df2[col] = encoder.fit_transform(df[col])\n",
    "\n",
    "df2.head()\n",
    "\n",
    "# df2 = pd.DataFrame(encoded_data, columns=cat_cols)\n",
    "# df2.head()"
   ]
  },
  {
   "cell_type": "code",
   "execution_count": null,
   "metadata": {},
   "outputs": [],
   "source": [
    "df"
   ]
  },
  {
   "cell_type": "code",
   "execution_count": null,
   "metadata": {},
   "outputs": [],
   "source": [
    "#import one hot encoder\n",
    "from sklearn.preprocessing import OneHotEncoder\n",
    "\n",
    "#instantiate the encoder\n",
    "encoder = OneHotEncoder()\n",
    "\n",
    "#fit it for all cols in cat_cols\n",
    "encoder.fit(df[cat_cols])\n",
    "\n",
    "#transform the data\n",
    "encoded_data = encoder.transform(df[cat_cols])\n",
    "\n",
    "df2 = pd.DataFrame(encoded_data.toarray(), columns=encoder.get_feature_names(cat_cols))\n",
    "df2.head()"
   ]
  },
  {
   "cell_type": "code",
   "execution_count": null,
   "metadata": {},
   "outputs": [],
   "source": []
  }
 ],
 "metadata": {
  "kernelspec": {
   "display_name": "base",
   "language": "python",
   "name": "python3"
  },
  "language_info": {
   "codemirror_mode": {
    "name": "ipython",
    "version": 3
   },
   "file_extension": ".py",
   "mimetype": "text/x-python",
   "name": "python",
   "nbconvert_exporter": "python",
   "pygments_lexer": "ipython3",
   "version": "3.10.8"
  },
  "orig_nbformat": 4
 },
 "nbformat": 4,
 "nbformat_minor": 2
}
